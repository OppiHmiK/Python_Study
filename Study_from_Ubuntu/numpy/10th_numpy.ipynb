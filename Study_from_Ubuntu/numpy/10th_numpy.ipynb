{
 "cells": [
  {
   "cell_type": "code",
   "execution_count": 1,
   "metadata": {},
   "outputs": [],
   "source": [
    "# -*- coding : utf-8 -*-\n",
    "\n",
    "import numpy as np"
   ]
  },
  {
   "cell_type": "code",
   "execution_count": 3,
   "metadata": {},
   "outputs": [
    {
     "data": {
      "text/plain": [
       "array([[0, 1, 2],\n",
       "       [1, 2, 3],\n",
       "       [2, 3, 4]])"
      ]
     },
     "execution_count": 3,
     "metadata": {},
     "output_type": "execute_result"
    }
   ],
   "source": [
    "# Ex.2\n",
    "a = np.arange(3).reshape((3,1))\n",
    "b = np.arange(3)\n",
    "\n",
    "# step.1\n",
    "# a.shape = (3, 1) \n",
    "# b.shape = (3, )\n",
    "\n",
    "# step.2\n",
    "# a.shape = (3, 1)\n",
    "# b.shape = (1, 3)\n",
    "\n",
    "# step.3\n",
    "# a.shape = (3, 3)\n",
    "# b.shape = (3, 3)\n",
    "\n",
    "a + b"
   ]
  },
  {
   "cell_type": "code",
   "execution_count": 8,
   "metadata": {},
   "outputs": [
    {
     "data": {
      "text/plain": [
       "array([[4., 2.],\n",
       "       [4., 2.],\n",
       "       [4., 2.]])"
      ]
     },
     "execution_count": 8,
     "metadata": {},
     "output_type": "execute_result"
    }
   ],
   "source": [
    "# Ex.3\n",
    "M = np.ones((3, 2))\n",
    "a = np.arange(3)\n",
    "\n",
    "# step.1\n",
    "# M.shape = (3, 2)\n",
    "# a.shape = (3, )\n",
    "\n",
    "# step.2\n",
    "# M.shape = (3, 2)\n",
    "# a.shape = (1, 3)\n",
    "\n",
    "# step.3\n",
    "# M.shape = (3, 2)\n",
    "# a.shape = (3, 3)\n",
    "\n",
    "a = a[:, np.newaxis].shape\n",
    "\n",
    "M + a"
   ]
  }
 ],
 "metadata": {
  "kernelspec": {
   "display_name": "Python 3",
   "language": "python",
   "name": "python3"
  },
  "language_info": {
   "codemirror_mode": {
    "name": "ipython",
    "version": 3
   },
   "file_extension": ".py",
   "mimetype": "text/x-python",
   "name": "python",
   "nbconvert_exporter": "python",
   "pygments_lexer": "ipython3",
   "version": "3.5.5"
  }
 },
 "nbformat": 4,
 "nbformat_minor": 2
}
