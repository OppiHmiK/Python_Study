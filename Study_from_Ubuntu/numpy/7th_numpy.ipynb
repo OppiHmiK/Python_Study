{
 "cells": [
  {
   "cell_type": "code",
   "execution_count": 1,
   "metadata": {},
   "outputs": [],
   "source": [
    "import numpy as np"
   ]
  },
  {
   "cell_type": "code",
   "execution_count": 6,
   "metadata": {},
   "outputs": [
    {
     "name": "stdout",
     "output_type": "stream",
     "text": [
      "[[0.55582201 0.62720641 0.15878582 0.97212603]\n",
      " [0.92341298 0.42881043 0.19536175 0.97537511]\n",
      " [0.19206812 0.17953433 0.0780352  0.29737519]]\n"
     ]
    },
    {
     "data": {
      "text/plain": [
       "5.583913365815409"
      ]
     },
     "execution_count": 6,
     "metadata": {},
     "output_type": "execute_result"
    }
   ],
   "source": [
    "M = np.random.random((3, 4))\n",
    "print(M)\n",
    "M.sum()"
   ]
  },
  {
   "cell_type": "code",
   "execution_count": 8,
   "metadata": {},
   "outputs": [
    {
     "name": "stdout",
     "output_type": "stream",
     "text": [
      "[0.19206812 0.17953433 0.0780352  0.29737519]\n",
      "[0.15878582 0.19536175 0.0780352 ]\n"
     ]
    }
   ],
   "source": [
    "# NOTE : (열) axis = 0, (행) axis = 1\n",
    "print(M.min(axis=0))\n",
    "print(M.min(axis=1))"
   ]
  },
  {
   "cell_type": "code",
   "execution_count": 9,
   "metadata": {},
   "outputs": [
    {
     "data": {
      "text/plain": [
       "array([ True,  True, False, False, False])"
      ]
     },
     "execution_count": 9,
     "metadata": {},
     "output_type": "execute_result"
    }
   ],
   "source": [
    "# NOTE : ufunc으로서의 비교 연산자\n",
    "x = np.array([1, 2, 3, 4, 5])\n",
    "x < 3"
   ]
  }
 ],
 "metadata": {
  "kernelspec": {
   "display_name": "Python 3",
   "language": "python",
   "name": "python3"
  },
  "language_info": {
   "codemirror_mode": {
    "name": "ipython",
    "version": 3
   },
   "file_extension": ".py",
   "mimetype": "text/x-python",
   "name": "python",
   "nbconvert_exporter": "python",
   "pygments_lexer": "ipython3",
   "version": "3.5.5"
  }
 },
 "nbformat": 4,
 "nbformat_minor": 2
}
