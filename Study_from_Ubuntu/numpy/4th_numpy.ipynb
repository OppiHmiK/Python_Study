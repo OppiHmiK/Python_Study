{
 "cells": [
  {
   "cell_type": "code",
   "execution_count": 8,
   "metadata": {},
   "outputs": [],
   "source": [
    "from scipy import special\n",
    "import numpy as np"
   ]
  },
  {
   "cell_type": "code",
   "execution_count": 6,
   "metadata": {},
   "outputs": [
    {
     "name": "stdout",
     "output_type": "stream",
     "text": [
      "gamma(x)   =  [1.0000e+00 2.4000e+01 3.6288e+05]\n",
      "ln|gamma(x)|  =  [ 0.          3.17805383 12.80182748]\n",
      "beta(x)    =  [0.5        0.03333333 0.00909091]\n"
     ]
    }
   ],
   "source": [
    "# NOTE : 감마 함수(일반화된 계승)와 관련 함수\n",
    "x = [1, 5, 10]\n",
    "print('gamma(x)   = ', special.gamma(x))\n",
    "print('ln|gamma(x)|  = ', special.gammaln(x))\n",
    "print('beta(x)    = ', special.beta(x, 2))"
   ]
  },
  {
   "cell_type": "code",
   "execution_count": 9,
   "metadata": {},
   "outputs": [
    {
     "name": "stdout",
     "output_type": "stream",
     "text": [
      "erf(x)   =  [0.         0.32862676 0.67780119 0.84270079]\n",
      "erfc(x)  =  [1.         0.67137324 0.32219881 0.15729921]\n",
      "erfinv(x)  =  [0.         0.27246271 0.73286908        inf]\n"
     ]
    }
   ],
   "source": [
    "# NOTE : 오차 함수(가우스 적분), 그 보수(complement)와 역수(inverse)\n",
    "x = np.array([0, 0.3, 0.7, 1.0])\n",
    "print('erf(x)   = ', special.erf(x))\n",
    "print('erfc(x)  = ', special.erfc(x))\n",
    "print('erfinv(x)  = ', special.erfinv(x))"
   ]
  },
  {
   "cell_type": "code",
   "execution_count": 10,
   "metadata": {},
   "outputs": [
    {
     "name": "stdout",
     "output_type": "stream",
     "text": [
      "[ 0. 10. 20. 30. 40.]\n"
     ]
    }
   ],
   "source": [
    "x = np.arange(5)\n",
    "y = np.empty(5)\n",
    "np.multiply(x, 10, out = y)\n",
    "print(y)"
   ]
  },
  {
   "cell_type": "code",
   "execution_count": 11,
   "metadata": {},
   "outputs": [
    {
     "name": "stdout",
     "output_type": "stream",
     "text": [
      "[ 1.  0.  2.  0.  4.  0.  8.  0. 16.  0.]\n"
     ]
    }
   ],
   "source": [
    "y = np.zeros(10)\n",
    "np.power(2, x, out = y[::2])\n",
    "print(y)"
   ]
  }
 ],
 "metadata": {
  "kernelspec": {
   "display_name": "Python 3",
   "language": "python",
   "name": "python3"
  },
  "language_info": {
   "codemirror_mode": {
    "name": "ipython",
    "version": 3
   },
   "file_extension": ".py",
   "mimetype": "text/x-python",
   "name": "python",
   "nbconvert_exporter": "python",
   "pygments_lexer": "ipython3",
   "version": "3.5.5"
  }
 },
 "nbformat": 4,
 "nbformat_minor": 2
}
