{
 "cells": [
  {
   "cell_type": "code",
   "execution_count": 14,
   "metadata": {},
   "outputs": [],
   "source": [
    "import numpy as np\n",
    "\n",
    "# NOTE\n",
    "# NumPy의 배열 연산은 아주 빠르거나 아주 느릴수 있는데, 이 연산을 빠르게 만드는 핵심은 바로 벡터화연산을 사용하는 것이다.\n",
    "# 그것은 일반적으로 NumPy의 Universal Functions(ufuncs)를 통해 구현된다.\n",
    "\n",
    "# NOTE : UFuncs에는 단일 입력값에 동작하는 단항 ufuncs, 두 개의 입력값에 동작하는 이항 ufuncs가 있다."
   ]
  },
  {
   "cell_type": "code",
   "execution_count": 2,
   "metadata": {},
   "outputs": [
    {
     "name": "stdout",
     "output_type": "stream",
     "text": [
      "x    =  [0 1 2 3]\n",
      "x+5  =  [5 6 7 8]\n",
      "x-5  =  [-5 -4 -3 -2]\n",
      "x*2  =  [0 2 4 6]\n",
      "x/2  =  [0.  0.5 1.  1.5]\n",
      "x//2 =  [0 0 1 1]\n",
      "-x   =  [ 0 -1 -2 -3]\n",
      "x^2  =  [0 1 4 9]\n",
      "x%2  =  [0 1 0 1]\n"
     ]
    }
   ],
   "source": [
    "x = np.arange(4)\n",
    "\n",
    "# NOTE : 배열 산술연산\n",
    "print(\"x    = \", x)\n",
    "print(\"x+5  = \", x + 5)\n",
    "print(\"x-5  = \", x - 5)\n",
    "print(\"x*2  = \", x * 2)\n",
    "print(\"x/2  = \", x / 2)\n",
    "print(\"x//2 = \", x // 2) # NOTE : 바닥 나눗셈(나머지는 버림)\n",
    "print(\"-x   = \", -x)\n",
    "print(\"x^2  = \", x**2)\n",
    "print(\"x%2  = \", x % 2)"
   ]
  },
  {
   "cell_type": "code",
   "execution_count": 3,
   "metadata": {},
   "outputs": [
    {
     "name": "stdout",
     "output_type": "stream",
     "text": [
      "x   =  [0 1 2 3]\n",
      "x+5 =  [5 6 7 8]\n",
      "x-5 =  [-5 -4 -3 -2]\n",
      "x*2 =  [0 2 4 6]\n",
      "x/2 =  [0.  0.5 1.  1.5]\n",
      "x//2 =  [0 0 1 1]\n",
      "-x  =  [ 0 -1 -2 -3]\n",
      "x^2 =  [0 1 4 9]\n",
      "x%2 =  [0 1 0 1]\n"
     ]
    }
   ],
   "source": [
    "print(\"x   = \", x)\n",
    "print(\"x+5 = \", np.add(x, 5))\n",
    "print(\"x-5 = \", np.subtract(x, 5))\n",
    "print(\"x*2 = \", np.multiply(x, 2))\n",
    "print(\"x/2 = \", np.divide(x, 2))\n",
    "print(\"x//2 = \", np.floor_divide(x, 2))\n",
    "print(\"-x  = \", -x)\n",
    "print(\"x^2 = \", np.power(x, 2))\n",
    "print(\"x%2 = \", np.mod(x, 2))"
   ]
  },
  {
   "cell_type": "code",
   "execution_count": 7,
   "metadata": {},
   "outputs": [
    {
     "name": "stdout",
     "output_type": "stream",
     "text": [
      "[2 1 0 1 2]\n",
      "[2 1 0 1 2]\n",
      "[2 1 0 1 2]\n",
      "[5. 5. 2. 1.]\n",
      "[5. 5. 2. 1.]\n",
      "[5. 5. 2. 1.]\n"
     ]
    }
   ],
   "source": [
    "# NOTE : 절댓값 함수\n",
    "x = np.array([-2, -1, 0, 1, 2])\n",
    "y = np.array([3-4j, 4-3j, 2+0j, 0+1j])\n",
    "\n",
    "print(abs(x))\n",
    "print(np.abs(x))\n",
    "print(np.absolute(x))\n",
    "\n",
    "print(abs(y))\n",
    "print(np.abs(y))\n",
    "print(np.absolute(y))"
   ]
  },
  {
   "cell_type": "code",
   "execution_count": 10,
   "metadata": {},
   "outputs": [
    {
     "name": "stdout",
     "output_type": "stream",
     "text": [
      "theta   =  [0.         1.57079633 3.14159265]\n",
      "sin(theta)  =  [0.0000000e+00 1.0000000e+00 1.2246468e-16]\n",
      "cos(theta)  =  [ 1.000000e+00  6.123234e-17 -1.000000e+00]\n",
      "tan(theta   =  [ 0.00000000e+00  1.63312394e+16 -1.22464680e-16]\n",
      "\n",
      "\n",
      "x   =  [-1, 0, 1]\n",
      "arcsin(x)   =  [-1.57079633  0.          1.57079633]\n",
      "arccos(x)   =  [3.14159265 1.57079633 0.        ]\n",
      "arctan(x)   =  [-0.78539816  0.          0.78539816]\n"
     ]
    }
   ],
   "source": [
    "# NOTE : 삼각함수\n",
    "theta = np.linspace(0, np.pi, 3) # NOTE : 0부터 pi까지 균등하게 3개의 원소로 구성된 배열을 만듦.\n",
    "print(\"theta   = \", theta)\n",
    "print(\"sin(theta)  = \", np.sin(theta))\n",
    "print(\"cos(theta)  = \", np.cos(theta))\n",
    "print(\"tan(theta   = \", np.tan(theta))\n",
    "print('\\n')\n",
    "\n",
    "x = [-1, 0, 1]\n",
    "print(\"x   = \", x)\n",
    "print(\"arcsin(x)   = \", np.arcsin(x))\n",
    "print(\"arccos(x)   = \", np.arccos(x))\n",
    "print(\"arctan(x)   = \", np.arctan(x))"
   ]
  },
  {
   "cell_type": "code",
   "execution_count": 13,
   "metadata": {},
   "outputs": [
    {
     "name": "stdout",
     "output_type": "stream",
     "text": [
      "x   =  [1, 2, 3]\n",
      "e^x =  [ 2.71828183  7.3890561  20.08553692]\n",
      "2^x =  [2. 4. 8.]\n",
      "3^x =  [ 3  9 27]\n",
      "\n",
      "\n",
      "x   =  [1, 2, 4, 10]\n",
      "ln(x)    =  [0.         0.69314718 1.38629436 2.30258509]\n",
      "log2(x)  =  [0.         1.         2.         3.32192809]\n",
      "log10(x) =  [0.         0.30103    0.60205999 1.        ]\n",
      "\n",
      "\n",
      "exp(x) - 1    =  [0.         0.0010005  0.01005017 0.10517092]\n",
      "log(x + 1)    =  [0.         0.0009995  0.00995033 0.09531018]\n"
     ]
    }
   ],
   "source": [
    "# NOTE : 지수와 로그함수\n",
    "x = [1, 2, 3]\n",
    "print(\"x   = \", x)\n",
    "print(\"e^x = \", np.exp(x))\n",
    "print(\"2^x = \", np.exp2(x))\n",
    "print(\"3^x = \", np.power(3,x))\n",
    "print('\\n')\n",
    "\n",
    "x = [1, 2, 4, 10]\n",
    "print(\"x   = \", x)\n",
    "print(\"ln(x)    = \", np.log(x))\n",
    "print(\"log2(x)  = \", np.log2(x))\n",
    "print(\"log10(x) = \", np.log10(x))\n",
    "print('\\n')\n",
    "\n",
    "# NOTE : 매우 작은 입력값의 정확도 유지\n",
    "x = [0, 0.001, 0.01, 0.1]\n",
    "print('exp(x) - 1    = ', np.expm1(x))\n",
    "print('log(x + 1)    = ', np.log1p(x))"
   ]
  }
 ],
 "metadata": {
  "kernelspec": {
   "display_name": "Python 3",
   "language": "python",
   "name": "python3"
  },
  "language_info": {
   "codemirror_mode": {
    "name": "ipython",
    "version": 3
   },
   "file_extension": ".py",
   "mimetype": "text/x-python",
   "name": "python",
   "nbconvert_exporter": "python",
   "pygments_lexer": "ipython3",
   "version": "3.5.5"
  }
 },
 "nbformat": 4,
 "nbformat_minor": 2
}
