{
 "cells": [
  {
   "cell_type": "code",
   "execution_count": 4,
   "metadata": {},
   "outputs": [],
   "source": [
    "# -*- coding : utf-8 -*-\n",
    "\n",
    "# NOTE\n",
    "# 재귀 html 페이지 처리 순서\n",
    "# [1] HTML 분석\n",
    "# [2] 링크 추출\n",
    "# [3] 각 링크 대상에 다과 같은 처리를 함.\n",
    "# [4] 파일을 다운받음.\n",
    "# [5] 파일이 HTML이라면 재귀적으로 [1]로 돌아가 순서를 처음부터 실행."
   ]
  },
  {
   "cell_type": "code",
   "execution_count": 3,
   "metadata": {},
   "outputs": [],
   "source": [
    "from bs4 import BeautifulSoup as bs\n",
    "from urllib.request import *\n",
    "from urllib.parse import *\n",
    "import os, time, re"
   ]
  },
  {
   "cell_type": "code",
   "execution_count": 5,
   "metadata": {},
   "outputs": [],
   "source": [
    "# NOTE : 이미 처리한 파일인지 확인하기 위한 변수\n",
    "proc_files = {}"
   ]
  },
  {
   "cell_type": "code",
   "execution_count": 6,
   "metadata": {},
   "outputs": [],
   "source": [
    "# NOTE : HTML 내부에 있는 링크를 추출하는 함수\n",
    "def enum_links(html, base):\n",
    "    soup = bs(html, 'lxml')\n",
    "    link = soup.select('link[rel=\"stylesheet\"]') # NOTE : CSS\n",
    "    link += soup.select('a[href]') # NOTE : 링크\n",
    "    result = []\n",
    "    \n",
    "    # NOTE : href 속성을 추출, 링크를 절대 경로로 변환\n",
    "    for rep in link:\n",
    "        href = a.attrs['href']\n",
    "        url = urljoin(base, href)\n",
    "        result.append(url)\n",
    "    return result"
   ]
  },
  {
   "cell_type": "code",
   "execution_count": 14,
   "metadata": {},
   "outputs": [],
   "source": [
    "# NOTE : 파일을 다운받고 저장하는 함수\n",
    "def download_file(url):\n",
    "    o = urlparse(url)\n",
    "    savepath = './' + o.netloc + o.path\n",
    "    if re.search(r\"$\", savepath): # NOTE : 폴더라면 index.html\n",
    "        savepath += 'index.html'\n",
    "    savedir = os.path.dirname(savepath)\n",
    "    \n",
    "    # NOTE : 파일이 모두 다운되었는지 확인\n",
    "    if os.path.exists(savepath): return savepath\n",
    "    \n",
    "    # NOTE : 다운로드받을 폴더 생성\n",
    "    if not os.path.isdir(savedir):\n",
    "        print('mkdir = ', savedir)\n",
    "        os.mkdir(savedir)\n",
    "    \n",
    "    # NOTE : 파일 다운받기\n",
    "    try:\n",
    "        print('download = ', url)\n",
    "        urlretrieve(url, savepath)\n",
    "    except:\n",
    "        prit(\"다운로드 실패 : \", url)\n",
    "        return None"
   ]
  },
  {
   "cell_type": "code",
   "execution_count": 12,
   "metadata": {},
   "outputs": [],
   "source": [
    "# NOTE : HTML을 분석하고 다운받는 함수\n",
    "def analyze_html(url, root_url):\n",
    "    savepath = download_file(url)\n",
    "    if savepath is None : return\n",
    "    if savepath is proc_files : return # NOTE : 이미 처리됐다면 실행되지 않음.\n",
    "    proc_files[savepath] = True\n",
    "    print('analyze_html = ', url)\n",
    "    \n",
    "    # NOTE : 링크 추출\n",
    "    html = open(savepath, \"r\", encoding = 'utf-8').read()\n",
    "    links = enum_links(html, url)\n",
    "    \n",
    "    for rep in links:\n",
    "        # NOTE : 링크가 루트 이외의 경로를 나타낸다면 무시\n",
    "        if rep.find(root_url) != 0:\n",
    "            if not re.search(r\".css$\", rep) : continue\n",
    "        \n",
    "        # NOTE : HTML이라면\n",
    "        if re.search(r\".(html|htm)$\", rep):\n",
    "            # NOTE : 재귀적으로 HTML 파일 분석\n",
    "            analyze_html(rep, root_url)\n",
    "            continue\n",
    "        # NOTE : 기타 파일\n",
    "        download_file(rep)\n",
    "    "
   ]
  },
  {
   "cell_type": "code",
   "execution_count": 15,
   "metadata": {},
   "outputs": [
    {
     "name": "stdout",
     "output_type": "stream",
     "text": [
      "mkdir =  ./docs.python.org/3.5\n"
     ]
    },
    {
     "ename": "FileNotFoundError",
     "evalue": "[Errno 2] No such file or directory: './docs.python.org/3.5'",
     "output_type": "error",
     "traceback": [
      "\u001b[0;31m---------------------------------------------------------------------------\u001b[0m",
      "\u001b[0;31mFileNotFoundError\u001b[0m                         Traceback (most recent call last)",
      "\u001b[0;32m<ipython-input-15-9784093a58c0>\u001b[0m in \u001b[0;36m<module>\u001b[0;34m()\u001b[0m\n\u001b[1;32m      1\u001b[0m \u001b[0;31m# NOTE : URL에 있는 모든것 다운로드\u001b[0m\u001b[0;34m\u001b[0m\u001b[0;34m\u001b[0m\u001b[0m\n\u001b[1;32m      2\u001b[0m \u001b[0murl\u001b[0m \u001b[0;34m=\u001b[0m \u001b[0;34m\"https://docs.python.org/3.5/library\"\u001b[0m\u001b[0;34m\u001b[0m\u001b[0m\n\u001b[0;32m----> 3\u001b[0;31m \u001b[0manalyze_html\u001b[0m\u001b[0;34m(\u001b[0m\u001b[0murl\u001b[0m\u001b[0;34m,\u001b[0m \u001b[0murl\u001b[0m\u001b[0;34m)\u001b[0m\u001b[0;34m\u001b[0m\u001b[0m\n\u001b[0m",
      "\u001b[0;32m<ipython-input-12-44af9dd28704>\u001b[0m in \u001b[0;36manalyze_html\u001b[0;34m(url, root_url)\u001b[0m\n\u001b[1;32m      1\u001b[0m \u001b[0;31m# NOTE : HTML을 분석하고 다운받는 함수\u001b[0m\u001b[0;34m\u001b[0m\u001b[0;34m\u001b[0m\u001b[0m\n\u001b[1;32m      2\u001b[0m \u001b[0;32mdef\u001b[0m \u001b[0manalyze_html\u001b[0m\u001b[0;34m(\u001b[0m\u001b[0murl\u001b[0m\u001b[0;34m,\u001b[0m \u001b[0mroot_url\u001b[0m\u001b[0;34m)\u001b[0m\u001b[0;34m:\u001b[0m\u001b[0;34m\u001b[0m\u001b[0m\n\u001b[0;32m----> 3\u001b[0;31m     \u001b[0msavepath\u001b[0m \u001b[0;34m=\u001b[0m \u001b[0mdownload_file\u001b[0m\u001b[0;34m(\u001b[0m\u001b[0murl\u001b[0m\u001b[0;34m)\u001b[0m\u001b[0;34m\u001b[0m\u001b[0m\n\u001b[0m\u001b[1;32m      4\u001b[0m     \u001b[0;32mif\u001b[0m \u001b[0msavepath\u001b[0m \u001b[0;32mis\u001b[0m \u001b[0;32mNone\u001b[0m \u001b[0;34m:\u001b[0m \u001b[0;32mreturn\u001b[0m\u001b[0;34m\u001b[0m\u001b[0m\n\u001b[1;32m      5\u001b[0m     \u001b[0;32mif\u001b[0m \u001b[0msavepath\u001b[0m \u001b[0;32mis\u001b[0m \u001b[0mproc_files\u001b[0m \u001b[0;34m:\u001b[0m \u001b[0;32mreturn\u001b[0m \u001b[0;31m# NOTE : 이미 처리됐다면 실행되지 않음.\u001b[0m\u001b[0;34m\u001b[0m\u001b[0m\n",
      "\u001b[0;32m<ipython-input-14-6e53ef9417ec>\u001b[0m in \u001b[0;36mdownload_file\u001b[0;34m(url)\u001b[0m\n\u001b[1;32m     13\u001b[0m     \u001b[0;32mif\u001b[0m \u001b[0;32mnot\u001b[0m \u001b[0mos\u001b[0m\u001b[0;34m.\u001b[0m\u001b[0mpath\u001b[0m\u001b[0;34m.\u001b[0m\u001b[0misdir\u001b[0m\u001b[0;34m(\u001b[0m\u001b[0msavedir\u001b[0m\u001b[0;34m)\u001b[0m\u001b[0;34m:\u001b[0m\u001b[0;34m\u001b[0m\u001b[0m\n\u001b[1;32m     14\u001b[0m         \u001b[0mprint\u001b[0m\u001b[0;34m(\u001b[0m\u001b[0;34m'mkdir = '\u001b[0m\u001b[0;34m,\u001b[0m \u001b[0msavedir\u001b[0m\u001b[0;34m)\u001b[0m\u001b[0;34m\u001b[0m\u001b[0m\n\u001b[0;32m---> 15\u001b[0;31m         \u001b[0mos\u001b[0m\u001b[0;34m.\u001b[0m\u001b[0mmkdir\u001b[0m\u001b[0;34m(\u001b[0m\u001b[0msavedir\u001b[0m\u001b[0;34m)\u001b[0m\u001b[0;34m\u001b[0m\u001b[0m\n\u001b[0m\u001b[1;32m     16\u001b[0m \u001b[0;34m\u001b[0m\u001b[0m\n\u001b[1;32m     17\u001b[0m     \u001b[0;31m# NOTE : 파일 다운받기\u001b[0m\u001b[0;34m\u001b[0m\u001b[0;34m\u001b[0m\u001b[0m\n",
      "\u001b[0;31mFileNotFoundError\u001b[0m: [Errno 2] No such file or directory: './docs.python.org/3.5'"
     ]
    }
   ],
   "source": [
    "# NOTE : URL에 있는 모든것 다운로드\n",
    "url = \"https://docs.python.org/3.5/library\"\n",
    "analyze_html(url, url)"
   ]
  }
 ],
 "metadata": {
  "kernelspec": {
   "display_name": "Python 3",
   "language": "python",
   "name": "python3"
  },
  "language_info": {
   "codemirror_mode": {
    "name": "ipython",
    "version": 3
   },
   "file_extension": ".py",
   "mimetype": "text/x-python",
   "name": "python",
   "nbconvert_exporter": "python",
   "pygments_lexer": "ipython3",
   "version": "3.5.5"
  }
 },
 "nbformat": 4,
 "nbformat_minor": 2
}
