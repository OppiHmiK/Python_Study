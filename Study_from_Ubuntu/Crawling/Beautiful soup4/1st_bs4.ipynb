{
 "cells": [
  {
   "cell_type": "code",
   "execution_count": 2,
   "metadata": {},
   "outputs": [],
   "source": [
    "# -*- coding : utf-8 -*-\n",
    "from bs4 import BeautifulSoup as bs"
   ]
  },
  {
   "cell_type": "code",
   "execution_count": 3,
   "metadata": {},
   "outputs": [],
   "source": [
    "html = \"\"\"\n",
    "<html><body>\n",
    "    <h1>스크레핑이란?</h1>\n",
    "    <p>웹 페이지를 분석하는 것</p>\n",
    "    <p>원하는 부분을 추출하는 것</p>\n",
    "</body></html>\"\"\""
   ]
  },
  {
   "cell_type": "code",
   "execution_count": 8,
   "metadata": {},
   "outputs": [
    {
     "name": "stdout",
     "output_type": "stream",
     "text": [
      "# Title = 스크레핑이란?\n",
      "# Body = 웹 페이지를 분석하는 것\n",
      "# Body2 = 원하는 부분을 추출하는 것\n"
     ]
    }
   ],
   "source": [
    "soup = bs(html, 'lxml')\n",
    "\n",
    "# NOTE : find 메서드로 원하는 부분 추출\n",
    "title = soup.find('h1')\n",
    "body = soup.find('p')\n",
    "body2 = body.nextSibling.next_sibling\n",
    "\n",
    "# NOTE : 텍스트 부분 출력하기\n",
    "print(\"# Title = \" + title.text)\n",
    "print(\"# Body = \" + body.text)\n",
    "print(\"# Body2 = \" + body2.text)"
   ]
  },
  {
   "cell_type": "code",
   "execution_count": 9,
   "metadata": {},
   "outputs": [],
   "source": [
    "html2 = '''\n",
    "<html><body>\n",
    "    <ul>\n",
    "        <li><a href=\"http://www.naver.com\">naver</li>\n",
    "        <li><a href=\"htttp://www.daum.net\">daum</li>\n",
    "    </ul>\n",
    "</body></html>\n",
    "'''"
   ]
  },
  {
   "cell_type": "code",
   "execution_count": 11,
   "metadata": {},
   "outputs": [
    {
     "name": "stdout",
     "output_type": "stream",
     "text": [
      "naver > http://www.naver.com\n",
      "daum > htttp://www.daum.net\n"
     ]
    }
   ],
   "source": [
    "soup = bs(html2, 'lxml')\n",
    "links = soup.find_all('a')\n",
    "\n",
    "# NOTE : 링크 목록 추출\n",
    "for rep in links:\n",
    "    href = rep.attrs['href']\n",
    "    text = rep.string\n",
    "    print(text, \">\", href)"
   ]
  }
 ],
 "metadata": {
  "kernelspec": {
   "display_name": "Python 3",
   "language": "python",
   "name": "python3"
  },
  "language_info": {
   "codemirror_mode": {
    "name": "ipython",
    "version": 3
   },
   "file_extension": ".py",
   "mimetype": "text/x-python",
   "name": "python",
   "nbconvert_exporter": "python",
   "pygments_lexer": "ipython3",
   "version": "3.5.5"
  }
 },
 "nbformat": 4,
 "nbformat_minor": 2
}
