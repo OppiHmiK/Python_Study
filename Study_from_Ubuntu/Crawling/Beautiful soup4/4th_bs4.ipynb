{
 "cells": [
  {
   "cell_type": "code",
   "execution_count": 3,
   "metadata": {},
   "outputs": [],
   "source": [
    "# -*- coding : utf-8 -*-\n",
    "from bs4 import BeautifulSoup as bs\n",
    "\n",
    "html = '''\n",
    "<html><body>\n",
    "    <div id = 'meigen'>\n",
    "        <h1>위키북스 도서</h1>\n",
    "        <ul class = 'items'>\n",
    "            <li>유니티 게임 이펙트 입문</li>\n",
    "            <li>스위프트로 시작하는 아이폰 앱 개발 교과서</li>\n",
    "            <li>모던 웹사이트 디자인의 정석</li>\n",
    "        </ul>\n",
    "    </div>\n",
    "</body></html>\n",
    "'''"
   ]
  },
  {
   "cell_type": "code",
   "execution_count": 4,
   "metadata": {},
   "outputs": [
    {
     "name": "stdout",
     "output_type": "stream",
     "text": [
      "h1 =  위키북스 도서\n",
      "li =  유니티 게임 이펙트 입문\n",
      "li =  스위프트로 시작하는 아이폰 앱 개발 교과서\n",
      "li =  모던 웹사이트 디자인의 정석\n"
     ]
    }
   ],
   "source": [
    "soup = bs(html, 'lxml')\n",
    "\n",
    "# NOTE : 필요한 부분 CSS쿼리로 추출\n",
    "# NOTE : 타이틀 부분 추출\n",
    "\n",
    "h1 = soup.select_one('div#meigen > h1').text\n",
    "print('h1 = ', h1)\n",
    "\n",
    "# NOTE : 목록 부분 추출\n",
    "li_list = soup.select('div#meigen > ul.items > li')\n",
    "for rep in li_list:\n",
    "    print('li = ', rep.text)"
   ]
  }
 ],
 "metadata": {
  "kernelspec": {
   "display_name": "Python 3",
   "language": "python",
   "name": "python3"
  },
  "language_info": {
   "codemirror_mode": {
    "name": "ipython",
    "version": 3
   },
   "file_extension": ".py",
   "mimetype": "text/x-python",
   "name": "python",
   "nbconvert_exporter": "python",
   "pygments_lexer": "ipython3",
   "version": "3.5.5"
  }
 },
 "nbformat": 4,
 "nbformat_minor": 2
}
