{
 "cells": [
  {
   "cell_type": "code",
   "execution_count": 18,
   "metadata": {},
   "outputs": [
    {
     "name": "stdout",
     "output_type": "stream",
     "text": [
      "가지\n",
      "아보카도\n",
      "아보카도\n",
      "아보카도\n",
      "아보카도\n"
     ]
    }
   ],
   "source": [
    "# -*- coding : utf-8 -*-\n",
    "from bs4 import BeautifulSoup as bs\n",
    "\n",
    "fv = open('friut.html', encoding = 'utf-8')\n",
    "soup = bs(fv, 'lxml')\n",
    "\n",
    "# NOTE : CSS 선택자로 선택\n",
    "black_vegitables = soup.select('ul#ve-list > li.black')\n",
    "\n",
    "for rep in black_vegitables:\n",
    "    print(rep.text)\n",
    "    \n",
    "print(soup.select_one('li:nth-of-type(8)').text)\n",
    "print(soup.select_one('ul#ve-list > li:nth-of-type(4)').text)\n",
    "print(soup.select('ul#ve-list > li[delta-lo=\"us\"]')[1].text)"
   ]
  }
 ],
 "metadata": {
  "kernelspec": {
   "display_name": "Python 3",
   "language": "python",
   "name": "python3"
  },
  "language_info": {
   "codemirror_mode": {
    "name": "ipython",
    "version": 3
   },
   "file_extension": ".py",
   "mimetype": "text/x-python",
   "name": "python",
   "nbconvert_exporter": "python",
   "pygments_lexer": "ipython3",
   "version": "3.5.5"
  }
 },
 "nbformat": 4,
 "nbformat_minor": 2
}
