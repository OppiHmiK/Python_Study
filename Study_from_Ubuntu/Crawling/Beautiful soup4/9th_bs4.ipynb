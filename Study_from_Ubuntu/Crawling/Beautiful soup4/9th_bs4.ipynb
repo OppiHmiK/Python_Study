{
 "cells": [
  {
   "cell_type": "code",
   "execution_count": 1,
   "metadata": {},
   "outputs": [],
   "source": [
    "# -*- coding : utf-8 -*-\n",
    "from bs4 import BeautifulSoup as bs\n",
    "from urllib.parse import urljoin\n",
    "\n",
    "# NOTE\n",
    "# urllib.parse.urljoin : 상대경로를 절대경로로 바꿔줌.\n",
    "# 사용법 urljoin(base, path), path : 상대경로\n",
    "base = 'http://example.com/html/a.html'"
   ]
  },
  {
   "cell_type": "code",
   "execution_count": 2,
   "metadata": {},
   "outputs": [
    {
     "name": "stdout",
     "output_type": "stream",
     "text": [
      "http://example.com/html/b.html\n",
      "http://example.com/html/sub/c.html\n",
      "http://example.com/index.html\n",
      "http://example.com/img/hoge.png\n",
      "http://example.com/css/hoge.css\n"
     ]
    }
   ],
   "source": [
    "print(urljoin(base, 'b.html'))\n",
    "print(urljoin(base, 'sub/c.html'))\n",
    "print(urljoin(base, '../index.html'))\n",
    "print(urljoin(base, '../img/hoge.png'))\n",
    "print(urljoin(base, '../css/hoge.css'))\n"
   ]
  },
  {
   "cell_type": "code",
   "execution_count": 3,
   "metadata": {},
   "outputs": [
    {
     "name": "stdout",
     "output_type": "stream",
     "text": [
      "http://example.com/hoge.html\n",
      "http://otherExample.com/wiki\n",
      "http://anotherExample.org/test\n"
     ]
    }
   ],
   "source": [
    "print(urljoin(base, '/hoge.html'))\n",
    "print(urljoin(base, 'http://otherExample.com/wiki'))\n",
    "print(urljoin(base, '//anotherExample.org/test'))\n",
    "\n",
    "# NOTE\n",
    "# urljoin은 path매개변수가 http:// 등으로 시작하면 base 매개변수는 무시하고,\n",
    "# 두번째 매개변수에 지정한 URL을 리턴\n",
    "# <a> 태그의 href 속성에 지정된 경로를 절대 경로로 쉽게 변환"
   ]
  }
 ],
 "metadata": {
  "kernelspec": {
   "display_name": "Python 3",
   "language": "python",
   "name": "python3"
  },
  "language_info": {
   "codemirror_mode": {
    "name": "ipython",
    "version": 3
   },
   "file_extension": ".py",
   "mimetype": "text/x-python",
   "name": "python",
   "nbconvert_exporter": "python",
   "pygments_lexer": "ipython3",
   "version": "3.5.5"
  }
 },
 "nbformat": 4,
 "nbformat_minor": 2
}
