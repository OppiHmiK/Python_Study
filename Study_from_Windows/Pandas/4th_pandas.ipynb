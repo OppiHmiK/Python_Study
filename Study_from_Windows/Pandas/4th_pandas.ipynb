{
 "cells": [
  {
   "cell_type": "code",
   "execution_count": 2,
   "metadata": {
    "collapsed": true
   },
   "outputs": [],
   "source": [
    "# -*- coding : utf-8 -*-\n",
    "import pandas as pd\n",
    "import numpy as np"
   ]
  },
  {
   "cell_type": "code",
   "execution_count": 8,
   "metadata": {},
   "outputs": [
    {
     "name": "stdout",
     "output_type": "stream",
     "text": [
      "California    423967\nTexas         695662\nNew York      141297\nFlorida       170312\nIllinois      149995\nName: area, dtype: int64\nCalifornia    423967\nTexas         695662\nNew York      141297\nFlorida       170312\nIllinois      149995\nName: area, dtype: int64\nTrue\nFalse\n"
     ]
    },
    {
     "name": "stdout",
     "output_type": "stream",
     "text": [
      "              area       pop     density\nCalifornia  423967  38332521   90.413926\nTexas       695662  26448193   38.018740\nNew York    141297  19651127  139.076746\nFlorida     170312  19552860  114.806121\nIllinois    149995  12882135   85.883763\n"
     ]
    }
   ],
   "source": [
    "# NOTE\n",
    "# 2차원 배열이나 구조화된 배열과 비슷하고, 동일 인덱스를 공유하는 Series 구조체의 딕셔너리와 비슷함.\n",
    "\n",
    "area = pd.Series({'California' : 423967, 'Texas' : 695662,\n",
    "                  'New York' : 141297, 'Florida' : 170312, 'Illinois' : 149995})\n",
    "\n",
    "pop = pd.Series({'California' : 38332521, 'Texas' : 26448193,\n",
    "                  'New York' : 19651127, 'Florida' : 19552860, 'Illinois' : 12882135})\n",
    "\n",
    "data = pd.DataFrame({'area' : area, 'pop' : pop})\n",
    "\n",
    "# NOTE : DataFrame의 열을 이루는 각 Series는 열 이름으로 된 딕셔너리 스타일의 인덱싱을 통해 접근가능.\n",
    "print(data['area'])\n",
    "\n",
    "# NOTE : 문자열인 열 이름을 이용해 속성 스타일로 접근가능.\n",
    "print(data.area)\n",
    "print(data.area is data['area'])\n",
    "\n",
    "# NOTE : 열 이름이 DataFrame의 메서드와 충돌하거나 열 이름이 문자열이 아니면 열 이름을 이용해 접근할 수 없음.\n",
    "# Ex) data.pop (DataFrame에는 pop이라는 메소드가 있다.)\n",
    "print(data.pop is data['pop'])\n",
    "\n",
    "# NOTE : Series 객체와 마찬가지로 딕셔너리를 확장하는 것 처럼 DataFrame도 확장할 수 있다.\n",
    "data['density'] = data['pop'] / data['area']\n",
    "print(data)"
   ]
  },
  {
   "cell_type": "code",
   "execution_count": 17,
   "metadata": {},
   "outputs": [
    {
     "name": "stdout",
     "output_type": "stream",
     "text": [
      "[[4.23967000e+05 3.83325210e+07 9.04139261e+01]\n [6.95662000e+05 2.64481930e+07 3.80187404e+01]\n [1.41297000e+05 1.96511270e+07 1.39076746e+02]\n [1.70312000e+05 1.95528600e+07 1.14806121e+02]\n [1.49995000e+05 1.28821350e+07 8.58837628e+01]] \n\n           California         Texas      New York       Florida      Illinois\narea     4.239670e+05  6.956620e+05  1.412970e+05  1.703120e+05  1.499950e+05\npop      3.833252e+07  2.644819e+07  1.965113e+07  1.955286e+07  1.288214e+07\ndensity  9.041393e+01  3.801874e+01  1.390767e+02  1.148061e+02  8.588376e+01 \n\n[4.23967000e+05 3.83325210e+07 9.04139261e+01] \n\nCalifornia    423967\nTexas         695662\nNew York      141297\nFlorida       170312\nIllinois      149995\nName: area, dtype: int64\n"
     ]
    }
   ],
   "source": [
    "# NOTE : values 속성을 이용해 원시 기반 데이터 배열을 확인할 수 있다.\n",
    "print(data.values, '\\n')\n",
    "\n",
    "# NOTE : T 속성을 이용해 전체 DataFrame의 행과 열을 바꿀 수 있다.\n",
    "print(data.T, '\\n')\n",
    "\n",
    "# NOTE : 배열에 단일 인덱스를 전달하면 행에 접근함.\n",
    "print(data.values[0], '\\n')\n",
    "\n",
    "# NOTE : DataFrame에 단일 인덱스를 전달하면 열에 접근함.\n",
    "print(data['area'])"
   ]
  },
  {
   "cell_type": "code",
   "execution_count": 21,
   "metadata": {},
   "outputs": [
    {
     "name": "stdout",
     "output_type": "stream",
     "text": [
      "              area       pop\nCalifornia  423967  38332521\nTexas       695662  26448193\nNew York    141297  19651127\nFlorida     170312  19552860\nIllinois    149995  12882135 \n\n              area       pop\nCalifornia  423967  38332521\nTexas       695662  26448193\nNew York    141297  19651127 \n\n              area       pop\nCalifornia  423967  38332521\nTexas       695662  26448193\nNew York    141297  19651127\n"
     ]
    },
    {
     "name": "stderr",
     "output_type": "stream",
     "text": [
      "D:\\Coding\\Anaconda\\envs\\AI\\lib\\site-packages\\ipykernel_launcher.py:10: DeprecationWarning: \n.ix is deprecated. Please use\n.loc for label based indexing or\n.iloc for positional indexing\n\nSee the documentation here:\nhttp://pandas.pydata.org/pandas-docs/stable/indexing.html#ix-indexer-is-deprecated\n  # Remove the CWD from sys.path while we load stuff.\n"
     ]
    }
   ],
   "source": [
    "# NOTE\n",
    "# iloc 인덱서를 사용하면 DataFrame 객체가 암묵적 파이썬 스타일의 인덱스 기반 배열을 인덱싱 할 수 있지만,\n",
    "# DataFrame 인덱스와 열 레이블은 결과에 그대로 유지됨.\n",
    "\n",
    "print(data.loc[:'Illinois', :'pop'], '\\n')\n",
    "print(data.iloc[:3, :2], '\\n')\n",
    "\n",
    "# NOTE\n",
    "# ix 인덱서는 loc과 iloc 방식의 하이브리드 형태다.\n",
    "print(data.ix[:3, :'pop'])"
   ]
  },
  {
   "cell_type": "code",
   "execution_count": 23,
   "metadata": {},
   "outputs": [
    {
     "name": "stdout",
     "output_type": "stream",
     "text": [
      "               pop     density\nNew York  19651127  139.076746\nFlorida   19552860  114.806121\n"
     ]
    },
    {
     "data": {
      "text/html": [
       "<div>\n",
       "<style scoped>\n",
       "    .dataframe tbody tr th:only-of-type {\n",
       "        vertical-align: middle;\n",
       "    }\n",
       "\n",
       "    .dataframe tbody tr th {\n",
       "        vertical-align: top;\n",
       "    }\n",
       "\n",
       "    .dataframe thead th {\n",
       "        text-align: right;\n",
       "    }\n",
       "</style>\n",
       "<table border=\"1\" class=\"dataframe\">\n",
       "  <thead>\n",
       "    <tr style=\"text-align: right;\">\n",
       "      <th></th>\n",
       "      <th>area</th>\n",
       "      <th>pop</th>\n",
       "      <th>density</th>\n",
       "    </tr>\n",
       "  </thead>\n",
       "  <tbody>\n",
       "    <tr>\n",
       "      <th>California</th>\n",
       "      <td>423967</td>\n",
       "      <td>38332521</td>\n",
       "      <td>90.000000</td>\n",
       "    </tr>\n",
       "    <tr>\n",
       "      <th>Texas</th>\n",
       "      <td>695662</td>\n",
       "      <td>26448193</td>\n",
       "      <td>38.018740</td>\n",
       "    </tr>\n",
       "    <tr>\n",
       "      <th>New York</th>\n",
       "      <td>141297</td>\n",
       "      <td>19651127</td>\n",
       "      <td>139.076746</td>\n",
       "    </tr>\n",
       "    <tr>\n",
       "      <th>Florida</th>\n",
       "      <td>170312</td>\n",
       "      <td>19552860</td>\n",
       "      <td>114.806121</td>\n",
       "    </tr>\n",
       "    <tr>\n",
       "      <th>Illinois</th>\n",
       "      <td>149995</td>\n",
       "      <td>12882135</td>\n",
       "      <td>85.883763</td>\n",
       "    </tr>\n",
       "  </tbody>\n",
       "</table>\n",
       "</div>"
      ],
      "text/plain": [
       "<div>\n",
       "<style scoped>\n",
       "    .dataframe tbody tr th:only-of-type {\n",
       "        vertical-align: middle;\n",
       "    }\n",
       "\n",
       "    .dataframe tbody tr th {\n",
       "        vertical-align: top;\n",
       "    }\n",
       "\n",
       "    .dataframe thead th {\n",
       "        text-align: right;\n",
       "    }\n",
       "</style>\n",
       "<table border=\"1\" class=\"dataframe\">\n",
       "  <thead>\n",
       "    <tr style=\"text-align: right;\">\n",
       "      <th></th>\n",
       "      <th>area</th>\n",
       "      <th>pop</th>\n",
       "      <th>density</th>\n",
       "    </tr>\n",
       "  </thead>\n",
       "  <tbody>\n",
       "    <tr>\n",
       "      <th>California</th>\n",
       "      <td>423967</td>\n",
       "      <td>38332521</td>\n",
       "      <td>90.000000</td>\n",
       "    </tr>\n",
       "    <tr>\n",
       "      <th>Texas</th>\n",
       "      <td>695662</td>\n",
       "      <td>26448193</td>\n",
       "      <td>38.018740</td>\n",
       "    </tr>\n",
       "    <tr>\n",
       "      <th>New York</th>\n",
       "      <td>141297</td>\n",
       "      <td>19651127</td>\n",
       "      <td>139.076746</td>\n",
       "    </tr>\n",
       "    <tr>\n",
       "      <th>Florida</th>\n",
       "      <td>170312</td>\n",
       "      <td>19552860</td>\n",
       "      <td>114.806121</td>\n",
       "    </tr>\n",
       "    <tr>\n",
       "      <th>Illinois</th>\n",
       "      <td>149995</td>\n",
       "      <td>12882135</td>\n",
       "      <td>85.883763</td>\n",
       "    </tr>\n",
       "  </tbody>\n",
       "</table>\n",
       "</div>"
      ]
     },
     "execution_count": 23,
     "metadata": {},
     "output_type": "execute_result"
    }
   ],
   "source": [
    "# NOTE : 인덱서들도 마스킹과 팬시 인덱싱을 결합할 수 있다.\n",
    "print(data.loc[data.density > 100, ['pop', 'density']])\n",
    "\n",
    "# NOTE : 이 인덱싱 규칙은 값을 설정하거나 변경하는 데도 사욜될 수 있음.\n",
    "data.iloc[0, 2] = 90\n",
    "data"
   ]
  },
  {
   "cell_type": "code",
   "execution_count": 30,
   "metadata": {},
   "outputs": [
    {
     "name": "stdout",
     "output_type": "stream",
     "text": [
      "            area       pop     density\nFlorida   170312  19552860  114.806121\nIllinois  149995  12882135   85.883763\n            area       pop     density\nTexas     695662  26448193   38.018740\nNew York  141297  19651127  139.076746\n            area       pop     density\nNew York  141297  19651127  139.076746\nFlorida   170312  19552860  114.806121\n"
     ]
    }
   ],
   "source": [
    "# NOTE : 실무에서 매우 유용한 몇 가지 추가적인 인덱싱 규칙\n",
    "\n",
    "# NOTE : 인덱싱은 열을 참조하는 반면, 슬라이싱은 행을 참조한다.\n",
    "print(data['Florida':'Illinois'])\n",
    "\n",
    "# NOTE : 인덱스 개신 숫자로 행을 참조할 수도 있다.\n",
    "print(data[1:3])\n",
    "\n",
    "# NOTE : 직접 마스킹 연산은 열 단위가 아닌 행 단위로 해석된다.\n",
    "print(data[data.density > 100])"
   ]
  }
 ],
 "metadata": {
  "kernelspec": {
   "display_name": "Python 2",
   "language": "python",
   "name": "python2"
  },
  "language_info": {
   "codemirror_mode": {
    "name": "ipython",
    "version": 2
   },
   "file_extension": ".py",
   "mimetype": "text/x-python",
   "name": "python",
   "nbconvert_exporter": "python",
   "pygments_lexer": "ipython2",
   "version": "2.7.6"
  }
 },
 "nbformat": 4,
 "nbformat_minor": 0
}
