{
 "cells": [
  {
   "cell_type": "code",
   "execution_count": 1,
   "metadata": {
    "collapsed": true
   },
   "outputs": [],
   "source": [
    "# -*- coding : utf-8 -*-\n",
    "import pandas as pd\n",
    "import numpy as np"
   ]
  },
  {
   "cell_type": "code",
   "execution_count": 8,
   "metadata": {},
   "outputs": [
    {
     "name": "stdout",
     "output_type": "stream",
     "text": [
      "[[6 3 7 4]\n [6 9 2 6]\n [7 4 3 7]] \n\n[[ 0  0  0  0]\n [ 0  6 -5  2]\n [ 1  1 -4  3]]\n"
     ]
    }
   ],
   "source": [
    "# NOTE\n",
    "# DataFrame과 Series 사이에서 연산할 때 인덱스와 열의 순서는 비슷하게 유지된다.\n",
    "# DataFrame과 Series 사이의 연산은 NumPy의 1차원 배열과 2차원 배열의 연산과 비슷하다.\n",
    "rand = np.random.RandomState(42)\n",
    "A = rand.randint(10, size = (3, 4))\n",
    "print(A, '\\n')\n",
    "print(A - A[0])"
   ]
  },
  {
   "cell_type": "code",
   "execution_count": 15,
   "metadata": {},
   "outputs": [
    {
     "name": "stdout",
     "output_type": "stream",
     "text": [
      "   Q  R  S  T\n0  6  3  7  4\n1  6  9  2  6\n2  7  4  3  7 \n\n   Q  R  S  T\n0  0  0  0  0\n1  0  6 -5  2\n2  1  1 -4  3 \n\n   Q  R  S  T\n0  3  0  4  1\n1 -3  0 -7 -3\n2  3  0 -1  3 \n\nQ    6\nS    7\nName: 0, dtype: int32 \n\n"
     ]
    },
    {
     "name": "stdout",
     "output_type": "stream",
     "text": [
      "     Q   R    S   T\n0  0.0 NaN  0.0 NaN\n1  0.0 NaN -5.0 NaN\n2  1.0 NaN -4.0 NaN\n"
     ]
    }
   ],
   "source": [
    "df = pd.DataFrame(A, columns=list('QRST'))\n",
    "print(df, '\\n')\n",
    "print(df - df.iloc[0], '\\n')\n",
    "\n",
    "# NOTE : 열 방향 연산을 하고자 하면 pandas 산술 연산자에 axis 옵션을 추가하면 된다.\n",
    "print(df.subtract(df['R'], axis = 0), '\\n')\n",
    "\n",
    "# NOTE : 두 요소 간의 인덱스를 자동으로 맞춤.\n",
    "halfrow = df.iloc[0, ::2]\n",
    "print(halfrow, '\\n')\n",
    "print(df - halfrow)"
   ]
  },
  {
   "cell_type": "code",
   "execution_count": null,
   "metadata": {},
   "outputs": [],
   "source": []
  }
 ],
 "metadata": {
  "kernelspec": {
   "display_name": "Python 2",
   "language": "python",
   "name": "python2"
  },
  "language_info": {
   "codemirror_mode": {
    "name": "ipython",
    "version": 2
   },
   "file_extension": ".py",
   "mimetype": "text/x-python",
   "name": "python",
   "nbconvert_exporter": "python",
   "pygments_lexer": "ipython2",
   "version": "2.7.6"
  }
 },
 "nbformat": 4,
 "nbformat_minor": 0
}
