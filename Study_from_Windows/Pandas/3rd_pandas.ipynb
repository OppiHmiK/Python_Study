{
 "cells": [
  {
   "cell_type": "code",
   "execution_count": 2,
   "metadata": {
    "collapsed": true
   },
   "outputs": [],
   "source": [
    "# -*- coding : utf-8 -*-\n",
    "\n",
    "import pandas as pd\n",
    "import numpy as np"
   ]
  },
  {
   "cell_type": "code",
   "execution_count": 10,
   "metadata": {},
   "outputs": [
    {
     "name": "stdout",
     "output_type": "stream",
     "text": [
      "0.5\nTrue\nIndex(['a', 'b', 'c', 'd'], dtype='object')\n[('a', 0.25), ('b', 0.5), ('c', 0.75), ('d', 1.0)]\na    0.25\nb    0.50\nc    0.75\nd    1.00\ne    1.25\ndtype: float64\n"
     ]
    }
   ],
   "source": [
    "# NOTE\n",
    "# Series 객체는 1차원 NumPy 배열과 표준 파이썬 딕셔너리처럼 동작.\n",
    "\n",
    "# NOTE \n",
    "# Series 객체는 딕셔너리와 마찬가지로 키의 집합을 값의 집합에 매핑\n",
    "data = pd.Series(np.linspace(0.25, 1, 4), index = ['a', 'b', 'c', 'd'])\n",
    "\n",
    "print(data['b'])\n",
    "print('a' in data)\n",
    "print(data.keys())\n",
    "print(list(data.items()))\n",
    "\n",
    "# NOTE\n",
    "# 딕셔너리와 마찬가지로 새로운 키에 값을 할당해 Series를 확장시킬 수 있다.\n",
    "data['e'] = 1.25\n",
    "print(data)"
   ]
  },
  {
   "cell_type": "code",
   "execution_count": 13,
   "metadata": {},
   "outputs": [
    {
     "name": "stdout",
     "output_type": "stream",
     "text": [
      "a    0.25\nb    0.50\nc    0.75\ndtype: float64\na    0.25\nb    0.50\ndtype: float64\nb    0.50\nc    0.75\ndtype: float64\na    0.25\ne    1.25\ndtype: float64\n"
     ]
    }
   ],
   "source": [
    "# NOTE\n",
    "# 슬라이싱, 마스킹, 팬시 인덱싱 들 NumPy 배열과 똑같은 기본 메커니즘으로 배열 형태의 아이템을 선택할 수 있다.\n",
    "\n",
    "# NOTE : 명시적인 인덱스로 슬라이싱\n",
    "print(data['a':'c'])\n",
    "\n",
    "# NOTE : 암묵적 정수 인덱스로 슬라이싱\n",
    "print(data[0:2])\n",
    "\n",
    "# NOTE : 마스킹\n",
    "# REVIEW \n",
    "# 마스킹 : 배열에서 조건에 맞는 값들을 선택하기 위해 간단히 Bool 배열을 인덱스로 사용.\n",
    "print(data[(data > 0.3) & (data < 0.8)])\n",
    "\n",
    "# NOTE : 팬시 인덱싱\n",
    "# REVIEW\n",
    "# 팬시 인덱싱 : 한 번에 여러 배열 요소에 접근하기 위해 인덱스의 배열을 전달.\n",
    "print(data[['a', 'e']])\n",
    "\n",
    "# NOTE\n",
    "# 명시적 인덱스로 슬라이싱 할 때는 최종 인덱스가 슬라이스에 포함됨.\n",
    "# 암묵적 인덱스로 슬라이싱 할 때는 최종 인덱스가 슬라이스에 포함되지 않음."
   ]
  },
  {
   "cell_type": "code",
   "execution_count": 15,
   "metadata": {},
   "outputs": [
    {
     "name": "stdout",
     "output_type": "stream",
     "text": [
      "a\n1    a\n3    b\ndtype: object\nb\n3    b\n5    c\ndtype: object\n"
     ]
    }
   ],
   "source": [
    "# NOTE : loc, iloc, ix\n",
    "\n",
    "data_2 = pd.Series(['a','b','c'], index = [1, 3, 5])\n",
    "\n",
    "# NOTE\n",
    "# loc : 명시적인 인덱스를 참조하는 인덱싱과 슬라이싱을 가능하게 함.\n",
    "print(data_2.loc[1])\n",
    "print(data_2.loc[1:3])\n",
    "\n",
    "# NOTE \n",
    "# iloc : 암묵적인 파이썬 스타일의 인덱스를 참조하게 해줌.\n",
    "print(data_2.iloc[1])\n",
    "print(data_2.iloc[1:3])"
   ]
  }
 ],
 "metadata": {
  "kernelspec": {
   "display_name": "Python 2",
   "language": "python",
   "name": "python2"
  },
  "language_info": {
   "codemirror_mode": {
    "name": "ipython",
    "version": 2
   },
   "file_extension": ".py",
   "mimetype": "text/x-python",
   "name": "python",
   "nbconvert_exporter": "python",
   "pygments_lexer": "ipython2",
   "version": "2.7.6"
  }
 },
 "nbformat": 4,
 "nbformat_minor": 0
}
