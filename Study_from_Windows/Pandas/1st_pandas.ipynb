{
 "cells": [
  {
   "cell_type": "code",
   "execution_count": 1,
   "metadata": {
    "collapsed": true
   },
   "outputs": [],
   "source": [
    "# -*- coding : utf-8 -*-\n",
    "import pandas as pd\n",
    "import numpy as np\n"
   ]
  },
  {
   "cell_type": "code",
   "execution_count": 7,
   "metadata": {},
   "outputs": [
    {
     "name": "stdout",
     "output_type": "stream",
     "text": [
      "0    0.25\n1    0.50\n2    0.75\n3    1.00\ndtype: float64 \n\n[0.25 0.5  0.75 1.  ]\nRangeIndex(start=0, stop=4, step=1)\n"
     ]
    }
   ],
   "source": [
    "# NOTE \n",
    "# Series : 인덱싱된 데이터의 1차원 배열\n",
    "data = pd.Series([0.25, 0.50, 0.75, 1.00])\n",
    "print(data, '\\n')\n",
    "\n",
    "# NOTE : Series는 일련의 값과 인덱스를 모두 감싸고 있다.\n",
    "# NOTE : 값과 인덱스는 각각 values와 index 속성으로 접근할 수 있다.\n",
    "print(data.values)\n",
    "print(data.index)"
   ]
  },
  {
   "cell_type": "code",
   "execution_count": 14,
   "metadata": {},
   "outputs": [
    {
     "name": "stdout",
     "output_type": "stream",
     "text": [
      "a    0.25\nb    0.50\nc    0.75\nd    1.00\ndtype: float64 \n\n0.5 \n\n2    0.25\n5    0.50\n3    0.75\n7    1.00\ndtype: float64 \n\n0.5\n"
     ]
    }
   ],
   "source": [
    "# NOTE \n",
    "# NumPy 배열은 인덱스가 정수로 정해져 있지만,\n",
    "# Pandas의 Series는 인덱스가 어떤 타입의 값으로도 구성할 수 있다.\n",
    "\n",
    "data2 = pd.Series([0.25, 0.50, 0.75, 1.00], index = ['a', 'b', 'c', 'd'])\n",
    "print(data2, '\\n')\n",
    "print(data2['b'], '\\n')\n",
    "\n",
    "data3 = pd.Series([0.25, 0.50, 0.75, 1.00], index = [2, 5, 3, 7])\n",
    "print(data3, '\\n')\n",
    "print(data3[5])"
   ]
  },
  {
   "cell_type": "code",
   "execution_count": 17,
   "metadata": {},
   "outputs": [
    {
     "name": "stdout",
     "output_type": "stream",
     "text": [
      "California    38332521\nTexas         26448193\nNew York      19651127\nFlorida       19552860\nIllinois      12882135\ndtype: int64 \n\n38332521 \n\nCalifornia    38332521\nTexas         26448193\nNew York      19651127\ndtype: int64\n"
     ]
    }
   ],
   "source": [
    "pop_dict = {'California' : 38332521,\n",
    "            'Texas' : 26448193,\n",
    "            'New York' : 19651127,\n",
    "            'Florida' : 19552860,\n",
    "            'Illinois' : 12882135 }\n",
    "\n",
    "pop = pd.Series(pop_dict)\n",
    "print(pop, '\\n')\n",
    "print(pop['California'], '\\n')\n",
    "print(pop['California' :'New York'])"
   ]
  },
  {
   "cell_type": "code",
   "execution_count": 24,
   "metadata": {},
   "outputs": [
    {
     "data": {
      "text/plain": [
       "2    a\n1    b\n3    c\ndtype: object"
      ]
     },
     "execution_count": 24,
     "metadata": {},
     "output_type": "execute_result"
    }
   ],
   "source": [
    "# NOTE\n",
    "# Pandas Series의 기본적인 구조 pd.Series(data, index = index)\n",
    "# data : 리스트나 NumPy 배열인 경우 index : 정수\n",
    "# data : 딕셔너리인 경우 index : 딕셔너리 키를 정렬해서 취함.\n",
    "\n",
    "pd.Series({2 : 'a' , 1 : 'b', 3 : 'c'})"
   ]
  },
  {
   "cell_type": "code",
   "execution_count": 28,
   "metadata": {},
   "outputs": [],
   "source": [
    "# NOTE\n",
    "# DataFrame : 유연한 행 인덱스와 유연한 열 이름을 가진 2차원 배열\n",
    "# 정렬(같은 인덱스를 공유)된 Series 객체의 연속\n",
    "\n",
    "area_dict = {\n",
    "    'California' : 423967,\n",
    "    'Texas' : 695662,\n",
    "    'New York' : 141297,\n",
    "    'Florida' : 170312,\n",
    "    'Illinois' : 149995\n",
    "}\n",
    "\n",
    "area = pd.Series(area_dict)"
   ]
  },
  {
   "cell_type": "code",
   "execution_count": 34,
   "metadata": {},
   "outputs": [
    {
     "name": "stdout",
     "output_type": "stream",
     "text": [
      "            Population    Area\nCalifornia    38332521  423967\nTexas         26448193  695662\nNew York      19651127  141297\nFlorida       19552860  170312\nIllinois      12882135  149995 \n\nIndex(['California', 'Texas', 'New York', 'Florida', 'Illinois'], dtype='object') \n\n[[38332521   423967]\n [26448193   695662]\n [19651127   141297]\n [19552860   170312]\n [12882135   149995]] \n\n            Population\nCalifornia    38332521\nTexas         26448193\nNew York      19651127\nFlorida       19552860\nIllinois      12882135\n"
     ]
    }
   ],
   "source": [
    "states = pd.DataFrame({'Population' : pop,\n",
    "                       'Area' : area})\n",
    "\n",
    "print(states, '\\n')\n",
    "print(states.index, '\\n')\n",
    "print(states.values, '\\n')\n",
    "\n",
    "# NOTE \n",
    "# DataFrame은 Seires들의 집합이므로, 열 하나하나는 Seires와 같다.\n",
    "\n",
    "print(pd.DataFrame(pop, columns = ['Population']))"
   ]
  },
  {
   "cell_type": "code",
   "execution_count": 36,
   "metadata": {},
   "outputs": [
    {
     "data": {
      "text/html": [
       "<div>\n",
       "<style scoped>\n",
       "    .dataframe tbody tr th:only-of-type {\n",
       "        vertical-align: middle;\n",
       "    }\n",
       "\n",
       "    .dataframe tbody tr th {\n",
       "        vertical-align: top;\n",
       "    }\n",
       "\n",
       "    .dataframe thead th {\n",
       "        text-align: right;\n",
       "    }\n",
       "</style>\n",
       "<table border=\"1\" class=\"dataframe\">\n",
       "  <thead>\n",
       "    <tr style=\"text-align: right;\">\n",
       "      <th></th>\n",
       "      <th>a</th>\n",
       "      <th>b</th>\n",
       "    </tr>\n",
       "  </thead>\n",
       "  <tbody>\n",
       "    <tr>\n",
       "      <th>0</th>\n",
       "      <td>0</td>\n",
       "      <td>0</td>\n",
       "    </tr>\n",
       "    <tr>\n",
       "      <th>1</th>\n",
       "      <td>1</td>\n",
       "      <td>2</td>\n",
       "    </tr>\n",
       "    <tr>\n",
       "      <th>2</th>\n",
       "      <td>2</td>\n",
       "      <td>4</td>\n",
       "    </tr>\n",
       "  </tbody>\n",
       "</table>\n",
       "</div>"
      ],
      "text/plain": [
       "<div>\n",
       "<style scoped>\n",
       "    .dataframe tbody tr th:only-of-type {\n",
       "        vertical-align: middle;\n",
       "    }\n",
       "\n",
       "    .dataframe tbody tr th {\n",
       "        vertical-align: top;\n",
       "    }\n",
       "\n",
       "    .dataframe thead th {\n",
       "        text-align: right;\n",
       "    }\n",
       "</style>\n",
       "<table border=\"1\" class=\"dataframe\">\n",
       "  <thead>\n",
       "    <tr style=\"text-align: right;\">\n",
       "      <th></th>\n",
       "      <th>a</th>\n",
       "      <th>b</th>\n",
       "    </tr>\n",
       "  </thead>\n",
       "  <tbody>\n",
       "    <tr>\n",
       "      <th>0</th>\n",
       "      <td>0</td>\n",
       "      <td>0</td>\n",
       "    </tr>\n",
       "    <tr>\n",
       "      <th>1</th>\n",
       "      <td>1</td>\n",
       "      <td>2</td>\n",
       "    </tr>\n",
       "    <tr>\n",
       "      <th>2</th>\n",
       "      <td>2</td>\n",
       "      <td>4</td>\n",
       "    </tr>\n",
       "  </tbody>\n",
       "</table>\n",
       "</div>"
      ]
     },
     "execution_count": 36,
     "metadata": {},
     "output_type": "execute_result"
    }
   ],
   "source": [
    "data4 = [{'a' : rep, 'b' : 2*rep}\n",
    "         for rep in range(3)]\n",
    "pd.DataFrame(data4)"
   ]
  },
  {
   "cell_type": "code",
   "execution_count": 40,
   "metadata": {},
   "outputs": [
    {
     "name": "stdout",
     "output_type": "stream",
     "text": [
      "     a  b    c\n0  1.0  2  NaN\n1  NaN  3  4.0\n        foo       bar\na  0.977764  0.776775\nb  0.807102  0.146802\nc  0.451147  0.743953\n"
     ]
    },
    {
     "data": {
      "text/html": [
       "<div>\n",
       "<style scoped>\n",
       "    .dataframe tbody tr th:only-of-type {\n",
       "        vertical-align: middle;\n",
       "    }\n",
       "\n",
       "    .dataframe tbody tr th {\n",
       "        vertical-align: top;\n",
       "    }\n",
       "\n",
       "    .dataframe thead th {\n",
       "        text-align: right;\n",
       "    }\n",
       "</style>\n",
       "<table border=\"1\" class=\"dataframe\">\n",
       "  <thead>\n",
       "    <tr style=\"text-align: right;\">\n",
       "      <th></th>\n",
       "      <th>A</th>\n",
       "      <th>B</th>\n",
       "    </tr>\n",
       "  </thead>\n",
       "  <tbody>\n",
       "    <tr>\n",
       "      <th>0</th>\n",
       "      <td>0</td>\n",
       "      <td>0.0</td>\n",
       "    </tr>\n",
       "    <tr>\n",
       "      <th>1</th>\n",
       "      <td>0</td>\n",
       "      <td>0.0</td>\n",
       "    </tr>\n",
       "    <tr>\n",
       "      <th>2</th>\n",
       "      <td>0</td>\n",
       "      <td>0.0</td>\n",
       "    </tr>\n",
       "  </tbody>\n",
       "</table>\n",
       "</div>"
      ],
      "text/plain": [
       "<div>\n",
       "<style scoped>\n",
       "    .dataframe tbody tr th:only-of-type {\n",
       "        vertical-align: middle;\n",
       "    }\n",
       "\n",
       "    .dataframe tbody tr th {\n",
       "        vertical-align: top;\n",
       "    }\n",
       "\n",
       "    .dataframe thead th {\n",
       "        text-align: right;\n",
       "    }\n",
       "</style>\n",
       "<table border=\"1\" class=\"dataframe\">\n",
       "  <thead>\n",
       "    <tr style=\"text-align: right;\">\n",
       "      <th></th>\n",
       "      <th>A</th>\n",
       "      <th>B</th>\n",
       "    </tr>\n",
       "  </thead>\n",
       "  <tbody>\n",
       "    <tr>\n",
       "      <th>0</th>\n",
       "      <td>0</td>\n",
       "      <td>0.0</td>\n",
       "    </tr>\n",
       "    <tr>\n",
       "      <th>1</th>\n",
       "      <td>0</td>\n",
       "      <td>0.0</td>\n",
       "    </tr>\n",
       "    <tr>\n",
       "      <th>2</th>\n",
       "      <td>0</td>\n",
       "      <td>0.0</td>\n",
       "    </tr>\n",
       "  </tbody>\n",
       "</table>\n",
       "</div>"
      ]
     },
     "execution_count": 40,
     "metadata": {},
     "output_type": "execute_result"
    }
   ],
   "source": [
    "# NOTE : 딕셔너리 일부 키가 누락되더라도 누락된 자리를 NaN값으로 채워줌.\n",
    "print(pd.DataFrame([{'a' : 1, 'b' : 2}, {'b' : 3, 'c' : 4}]))\n",
    "\n",
    "# NOTE\n",
    "# 데이터의 2차원 배열이 주어지면 지정된 열과 인덱스 이름을 가진  DataFrame 생성 가능\n",
    "\n",
    "print(pd.DataFrame(np.random.rand(3, 2),\n",
    "                   columns = ['foo', 'bar'],\n",
    "                   index = ['a', 'b', 'c']))\n",
    "\n",
    "A = np.zeros(3, dtype = [('A', 'i8'), ('B', 'f8')])\n",
    "pd.DataFrame(A)"
   ]
  }
 ],
 "metadata": {
  "kernelspec": {
   "display_name": "Python 2",
   "language": "python",
   "name": "python2"
  },
  "language_info": {
   "codemirror_mode": {
    "name": "ipython",
    "version": 2
   },
   "file_extension": ".py",
   "mimetype": "text/x-python",
   "name": "python",
   "nbconvert_exporter": "python",
   "pygments_lexer": "ipython2",
   "version": "2.7.6"
  }
 },
 "nbformat": 4,
 "nbformat_minor": 0
}
