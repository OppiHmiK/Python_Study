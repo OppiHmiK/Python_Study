{
 "cells": [
  {
   "cell_type": "code",
   "execution_count": 1,
   "metadata": {
    "collapsed": true
   },
   "outputs": [],
   "source": [
    "# -*- coding : utf-8 -*-\n",
    "import pandas as pd\n",
    "import numpy as np"
   ]
  },
  {
   "cell_type": "code",
   "execution_count": 12,
   "metadata": {},
   "outputs": [
    {
     "data": {
      "text/html": [
       "<div>\n",
       "<style scoped>\n",
       "    .dataframe tbody tr th:only-of-type {\n",
       "        vertical-align: middle;\n",
       "    }\n",
       "\n",
       "    .dataframe tbody tr th {\n",
       "        vertical-align: top;\n",
       "    }\n",
       "\n",
       "    .dataframe thead th {\n",
       "        text-align: right;\n",
       "    }\n",
       "</style>\n",
       "<table border=\"1\" class=\"dataframe\">\n",
       "  <thead>\n",
       "    <tr style=\"text-align: right;\">\n",
       "      <th></th>\n",
       "      <th>A</th>\n",
       "      <th>B</th>\n",
       "      <th>C</th>\n",
       "      <th>D</th>\n",
       "    </tr>\n",
       "  </thead>\n",
       "  <tbody>\n",
       "    <tr>\n",
       "      <th>0</th>\n",
       "      <td>-1.000000</td>\n",
       "      <td>7.071068e-01</td>\n",
       "      <td>1.000000</td>\n",
       "      <td>-1.000000e+00</td>\n",
       "    </tr>\n",
       "    <tr>\n",
       "      <th>1</th>\n",
       "      <td>-0.707107</td>\n",
       "      <td>1.224647e-16</td>\n",
       "      <td>0.707107</td>\n",
       "      <td>-7.071068e-01</td>\n",
       "    </tr>\n",
       "    <tr>\n",
       "      <th>2</th>\n",
       "      <td>-0.707107</td>\n",
       "      <td>1.000000e+00</td>\n",
       "      <td>-0.707107</td>\n",
       "      <td>1.224647e-16</td>\n",
       "    </tr>\n",
       "  </tbody>\n",
       "</table>\n",
       "</div>"
      ],
      "text/plain": [
       "<div>\n",
       "<style scoped>\n",
       "    .dataframe tbody tr th:only-of-type {\n",
       "        vertical-align: middle;\n",
       "    }\n",
       "\n",
       "    .dataframe tbody tr th {\n",
       "        vertical-align: top;\n",
       "    }\n",
       "\n",
       "    .dataframe thead th {\n",
       "        text-align: right;\n",
       "    }\n",
       "</style>\n",
       "<table border=\"1\" class=\"dataframe\">\n",
       "  <thead>\n",
       "    <tr style=\"text-align: right;\">\n",
       "      <th></th>\n",
       "      <th>A</th>\n",
       "      <th>B</th>\n",
       "      <th>C</th>\n",
       "      <th>D</th>\n",
       "    </tr>\n",
       "  </thead>\n",
       "  <tbody>\n",
       "    <tr>\n",
       "      <th>0</th>\n",
       "      <td>-1.000000</td>\n",
       "      <td>7.071068e-01</td>\n",
       "      <td>1.000000</td>\n",
       "      <td>-1.000000e+00</td>\n",
       "    </tr>\n",
       "    <tr>\n",
       "      <th>1</th>\n",
       "      <td>-0.707107</td>\n",
       "      <td>1.224647e-16</td>\n",
       "      <td>0.707107</td>\n",
       "      <td>-7.071068e-01</td>\n",
       "    </tr>\n",
       "    <tr>\n",
       "      <th>2</th>\n",
       "      <td>-0.707107</td>\n",
       "      <td>1.000000e+00</td>\n",
       "      <td>-0.707107</td>\n",
       "      <td>1.224647e-16</td>\n",
       "    </tr>\n",
       "  </tbody>\n",
       "</table>\n",
       "</div>"
      ]
     },
     "execution_count": 12,
     "metadata": {},
     "output_type": "execute_result"
    }
   ],
   "source": [
    "rand = np.random.RandomState(42)\n",
    "ser = pd.Series(rand.randint(0, 10, 4))\n",
    "df = pd.DataFrame(rand.randint(0, 10, (3, 4)), columns=['A', 'B', 'C', 'D'])\n",
    "\n",
    "# NOTE\n",
    "# NumPy ufunc을 이 객체 중 하나에 적용하면 그 결과는 인덱스가 그대로 보존된 다른 Pandas 객체가 된다.\n",
    "np.exp(ser)\n",
    "\n",
    "np.sin(df * np.pi / 4)"
   ]
  },
  {
   "cell_type": "code",
   "execution_count": 19,
   "metadata": {},
   "outputs": [
    {
     "name": "stdout",
     "output_type": "stream",
     "text": [
      "Alaska              NaN\nCalifornia    90.413926\nNew York            NaN\nTexas         38.018740\ndtype: float64\nIndex(['Alaska', 'California', 'New York', 'Texas'], dtype='object')\n0    NaN\n1    5.0\n2    9.0\n3    NaN\ndtype: float64\n0    2.0\n1    5.0\n2    9.0\n3    5.0\ndtype: float64\n"
     ]
    }
   ],
   "source": [
    "# NOTE\n",
    "# Series에서 인덱스 정렬\n",
    "area = pd.Series({'Alaska': 1723337, 'Texas' : 695662, 'California' : 423967}, name = 'area')\n",
    "pop = pd.Series({'California' : 38332521, 'Texas' : 26448193, 'New York' : 19651127}, name = 'pop')\n",
    "\n",
    "print(pop / area)\n",
    "# NOTE : 결과 배열은 두 입력 배열의 인덱스의 합집합을 담고있음.\n",
    "#        이 합집함은 이 인덱스에 표준 파이썬 집합 연산을 사용해 결정됨.\n",
    "\n",
    "print(area.index | pop.index)\n",
    "\n",
    "# NOTE : 둘 중에 하나라도 값이 없는 경우에는 NaN으로 표시됨.\n",
    "#        이 인덱스 매칭은 파이썬에 내장된 산술 표현식에 대해서도 같은 방식으로 구현됨.\n",
    "A = pd.Series([2, 4, 6], index = [0, 1, 2])\n",
    "B = pd.Series([1, 3, 5], index = [1, 2, 3])\n",
    "print(A+B)\n",
    "\n",
    "# NOTE : NaN 값 사용을 원치 않는 경우 연산자 대신에 적절한 객체 메서드를 사용해 채우기 값을 수정할 수 있음.\n",
    "print(A.add(B, fill_value = 0))"
   ]
  },
  {
   "cell_type": "code",
   "execution_count": 24,
   "metadata": {},
   "outputs": [
    {
     "name": "stdout",
     "output_type": "stream",
     "text": [
      "      A     B   C\n0   6.0  26.0 NaN\n1  19.0   7.0 NaN\n2   NaN   NaN NaN\n      A     B     C\n0   6.0  26.0  15.0\n1  19.0   7.0  15.0\n2   9.0  12.0  12.0\n"
     ]
    }
   ],
   "source": [
    "# NOTE : DataFrame에서 인덱스 정렬\n",
    "A = pd.DataFrame(rand.randint(0, 20, (2, 2)), columns = list('AB'))\n",
    "B = pd.DataFrame(rand.randint(0, 10, (3, 3)), columns = list('BAC'))\n",
    "print(A + B)\n",
    "\n",
    "# NOTE : 두 개체의 순서와 상관없이 인덱스가 올바르게 정렬되고 결과 인덱스가 정렬됨.\n",
    "# NOTE : Series 객체와 마찬가지로 fill_value를 통해 누락된 값을 채울 수 있다.\n",
    "fill = A.stack().mean() # NOTE : A의 행을 쌓아서 계산한 평균값.\n",
    "print(A.add(B, fill_value = fill))"
   ]
  }
 ],
 "metadata": {
  "kernelspec": {
   "display_name": "Python 2",
   "language": "python",
   "name": "python2"
  },
  "language_info": {
   "codemirror_mode": {
    "name": "ipython",
    "version": 2
   },
   "file_extension": ".py",
   "mimetype": "text/x-python",
   "name": "python",
   "nbconvert_exporter": "python",
   "pygments_lexer": "ipython2",
   "version": "2.7.6"
  }
 },
 "nbformat": 4,
 "nbformat_minor": 0
}
