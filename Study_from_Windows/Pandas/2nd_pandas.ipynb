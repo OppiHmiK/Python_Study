{
 "cells": [
  {
   "cell_type": "code",
   "execution_count": 3,
   "metadata": {
    "collapsed": true
   },
   "outputs": [],
   "source": [
    "# -*- coding: utf-8 -*-\n",
    "\n",
    "import pandas as pd\n",
    "import numpy as np"
   ]
  },
  {
   "cell_type": "code",
   "execution_count": 5,
   "metadata": {},
   "outputs": [
    {
     "data": {
      "text/plain": [
       "Int64Index([2, 3, 5, 7, 11], dtype='int64')"
      ]
     },
     "execution_count": 5,
     "metadata": {},
     "output_type": "execute_result"
    }
   ],
   "source": [
    "# NOTE\n",
    "# Index : 불변의 배열이나 정렬된 집합( Index 객체가 중복되는 값을 포함할 수 있으므로 기술적으로 중복집합)\n",
    "\n",
    "ind = pd.Index([2, 3, 5, 7, 11])\n",
    "ind"
   ]
  },
  {
   "cell_type": "code",
   "execution_count": 7,
   "metadata": {},
   "outputs": [
    {
     "name": "stdout",
     "output_type": "stream",
     "text": [
      "3\nInt64Index([2, 5, 11], dtype='int64')\n5 (5,) 1 int64\n"
     ]
    }
   ],
   "source": [
    "# NOTE \n",
    "# Index 객체는 배열처럼 표준 파이썬 인덱싱 표기법을 사용해 값이나 슬라이스를 가져올 수 있다.\n",
    "\n",
    "print(ind[1])\n",
    "print(ind[::2])\n",
    "\n",
    "# NOTE\n",
    "# Index 객체는 NumPy 배열에서 익숙한 속성이 많이 있지만,\n",
    "# Index 객체는 일반적인 방법으로는 변경될 수 없는 불변의 값이다.\n",
    "\n",
    "print(ind.size, ind.shape, ind.ndim, ind.dtype)"
   ]
  },
  {
   "cell_type": "code",
   "execution_count": 9,
   "metadata": {},
   "outputs": [
    {
     "name": "stdout",
     "output_type": "stream",
     "text": [
      "Int64Index([3, 5, 7], dtype='int64')\nInt64Index([1, 2, 3, 5, 7, 9, 11], dtype='int64')\nInt64Index([1, 2, 9, 11], dtype='int64')\n"
     ]
    }
   ],
   "source": [
    "# NOTE\n",
    "# Index 객체는 대체로 파이썬에 내장된 set 데이터 구조에서 사용되는 따르기 때문에\n",
    "# 합집합, 교집합, 차집합을 비롯해 그 밖의 조합들이 익숙한 방식으로 계산됨.\n",
    "\n",
    "indA = pd.Index([1, 3, 5, 7, 9])\n",
    "indB = pd.Index([2, 3, 5, 7, 11])\n",
    "\n",
    "# NOTE : 교집합\n",
    "print(indA & indB)\n",
    "\n",
    "# NOTE : 합집합\n",
    "print(indA | indB)\n",
    "\n",
    "# NOTE : 대칭 차집합\n",
    "print(indA ^ indB)"
   ]
  },
  {
   "cell_type": "code",
   "execution_count": null,
   "metadata": {},
   "outputs": [],
   "source": []
  }
 ],
 "metadata": {
  "kernelspec": {
   "display_name": "Python 2",
   "language": "python",
   "name": "python2"
  },
  "language_info": {
   "codemirror_mode": {
    "name": "ipython",
    "version": 2
   },
   "file_extension": ".py",
   "mimetype": "text/x-python",
   "name": "python",
   "nbconvert_exporter": "python",
   "pygments_lexer": "ipython2",
   "version": "2.7.6"
  }
 },
 "nbformat": 4,
 "nbformat_minor": 0
}
