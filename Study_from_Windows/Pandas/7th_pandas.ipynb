{
 "cells": [
  {
   "cell_type": "code",
   "execution_count": 1,
   "metadata": {
    "collapsed": true
   },
   "outputs": [],
   "source": [
    "# -*- coding : utf-8 -*-\n",
    "import pandas as pd\n",
    "import numpy as np"
   ]
  },
  {
   "cell_type": "code",
   "execution_count": 2,
   "metadata": {},
   "outputs": [],
   "source": [
    "# NOTE : 누락된 데이터를 찾아내는 방법과 처리하는 방법\n",
    "# 1. 누락된 값을 전체적으로 가르키는 마스킹 방법 \n",
    "# 1-1. 마스크는 완전히 별개의 Bool 배열이거나 지역적으로 Null 상태를 가리키기 위해 데이터 표현에서 1비트를 전용으로 사용\n",
    "# 1-2. 별도의 마스크 배열을 사용하면 추가적인 Bool 배열 할당이 필요한데,\n",
    "#      이는 스토리지와 연산에 있어 오버헤드를 일으킴.\n",
    "\n",
    "# 2. 누락된 항목 하나를 가리키는 센티널 값 \n",
    "# 2-1. 센티널 값 : 누락된 정수값을 -9999나 보기 드문 비트 패턴으로 표시\n",
    "#                 누락된 부동 소수점 값을 IEEE 부동 소수점 표준을 따르는 특수 값인 NaN으로 표시.\n",
    "# 2-2. 표시할 수 있는 유횻값의 범위를 줄이고 CPU와 GPU 산술 연산에 별도의 로직이 필요할 수 있음.\n",
    "#      NaN과 같은 보편적인 특수 값은 모든 데이터 타입에서 사용할 수 없음."
   ]
  },
  {
   "cell_type": "code",
   "execution_count": 8,
   "metadata": {},
   "outputs": [
    {
     "name": "stdout",
     "output_type": "stream",
     "text": [
      "[1 None 3 4]\nfloat64\nnan\nnan\n8.0\n1.0\n4.0\n"
     ]
    }
   ],
   "source": [
    "# NOTE \n",
    "# None : Pandas가 사용한 첫 번째 센티널 값\n",
    "#        dtype이 object인 배열 즉, 파이썬 객체의 배열에서만 사용가능.\n",
    "vals1 = np.array([1, None, 3, 4])\n",
    "print(vals1)\n",
    "\n",
    "# NOTE\n",
    "# NaN : 표준 IEEE 부동 소수점 표기를 사용하는 모든 시스템이 인식하는 특수 부동 소수점 값.\n",
    "vals2 = np.array([1, np.nan, 3, 4])\n",
    "print(vals2.dtype)\n",
    "\n",
    "# NOTE : 어떤 연산이든 상관없이 nan이 포함된 산술 연산의 결과는 또 다른 nan이 됨.\n",
    "print(1 + np.nan)\n",
    "print(0*np.nan)\n",
    "\n",
    "# NOTE : 누락된 값을 무시하는 집계 연산이 있음.\n",
    "print(np.nansum(vals2))\n",
    "print(np.nanmin(vals2))\n",
    "print(np.nanmax(vals2))"
   ]
  },
  {
   "cell_type": "code",
   "execution_count": 11,
   "metadata": {},
   "outputs": [
    {
     "data": {
      "text/plain": [
       "0    0\n1    1\ndtype: int32"
      ]
     },
     "execution_count": 11,
     "metadata": {},
     "output_type": "execute_result"
    }
   ],
   "source": [
    "# NOTE: \n",
    "x = pd.Series(range(2), dtype=int)\n"
   ]
  }
 ],
 "metadata": {
  "kernelspec": {
   "display_name": "Python 2",
   "language": "python",
   "name": "python2"
  },
  "language_info": {
   "codemirror_mode": {
    "name": "ipython",
    "version": 2
   },
   "file_extension": ".py",
   "mimetype": "text/x-python",
   "name": "python",
   "nbconvert_exporter": "python",
   "pygments_lexer": "ipython2",
   "version": "2.7.6"
  }
 },
 "nbformat": 4,
 "nbformat_minor": 0
}
