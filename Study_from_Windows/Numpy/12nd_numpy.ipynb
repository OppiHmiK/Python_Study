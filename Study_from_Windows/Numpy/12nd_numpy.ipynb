{
 "cells": [
  {
   "cell_type": "code",
   "execution_count": 1,
   "metadata": {
    "collapsed": true
   },
   "outputs": [],
   "source": [
    "# -*- coding : utf-8 -*-\n",
    "import numpy as np"
   ]
  },
  {
   "cell_type": "code",
   "execution_count": 6,
   "metadata": {},
   "outputs": [
    {
     "name": "stdout",
     "output_type": "stream",
     "text": [
      "[ 0 89 89  3 89  5  6  7 89  9]\n"
     ]
    }
   ],
   "source": [
    "# NOTE : 팬시 인덱싱으로 값 변경하기\n",
    "x = np.arange(10)\n",
    "ind = np.array([2, 1, 8, 4])\n",
    "x[ind] = 99\n",
    "x[ind] -= 10\n",
    "print(x)"
   ]
  },
  {
   "cell_type": "code",
   "execution_count": 16,
   "metadata": {},
   "outputs": [
    {
     "name": "stdout",
     "output_type": "stream",
     "text": [
      "[6. 0. 0. 0. 0. 0. 0. 0. 0. 0.]\n"
     ]
    }
   ],
   "source": [
    "y = np.zeros(10)\n",
    "y[[0, 0]] = [4 ,6]\n",
    "print(y)\n",
    "\n",
    "# output : [6. 0. 0. 0. 0. 0. 0. 0. 0. 0.]\n",
    "# NOTE : y[0] = 4가 할당되고 그 다음 y[0] = 6이 할당 되었다."
   ]
  },
  {
   "cell_type": "code",
   "execution_count": 17,
   "metadata": {},
   "outputs": [
    {
     "name": "stdout",
     "output_type": "stream",
     "text": [
      "[6. 0. 1. 1. 1. 0. 0. 0. 0. 0.]\n"
     ]
    }
   ],
   "source": [
    "ind = [2, 3, 3, 4, 4, 4]\n",
    "y[ind] += 1\n",
    "print(y)\n",
    "\n",
    "# output : [6. 0. 1. 1. 1. 0. 0. 0. 0. 0.]"
   ]
  },
  {
   "cell_type": "code",
   "execution_count": 18,
   "metadata": {},
   "outputs": [
    {
     "name": "stdout",
     "output_type": "stream",
     "text": [
      "[0. 0. 1. 2. 3. 0. 0. 0. 0. 0.]\n"
     ]
    }
   ],
   "source": [
    "# NOTE\n",
    "# at : 지정한 값을 가진 특정 인덱스에 해당 연산자를 즉시 적용함.\n",
    "z = np.zeros(10)\n",
    "np.add.at(z, ind, 1)\n",
    "print(z)\n",
    "\n",
    "# output : [0. 0. 1. 2. 3. 0. 0. 0. 0. 0.]"
   ]
  }
 ],
 "metadata": {
  "kernelspec": {
   "display_name": "Python 2",
   "language": "python",
   "name": "python2"
  },
  "language_info": {
   "codemirror_mode": {
    "name": "ipython",
    "version": 2
   },
   "file_extension": ".py",
   "mimetype": "text/x-python",
   "name": "python",
   "nbconvert_exporter": "python",
   "pygments_lexer": "ipython2",
   "version": "2.7.6"
  }
 },
 "nbformat": 4,
 "nbformat_minor": 0
}
