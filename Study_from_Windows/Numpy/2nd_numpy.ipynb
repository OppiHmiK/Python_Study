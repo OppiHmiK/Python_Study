{
 "cells": [
  {
   "cell_type": "code",
   "execution_count": 3,
   "metadata": {
    "collapsed": true
   },
   "outputs": [],
   "source": [
    "import numpy as np\n",
    "\n",
    "# NOTE : 재현 가능성을 위한 시드 값\n",
    "np.random.seed(0)\n",
    "x1 = np.random.randint(10, size = 6) # NOTE : 1차원 배열\n",
    "x2 = np.random.randint(10, size = (3, 4)) # NOTE : 2차원 배열\n",
    "x3 = np.random.randint(10, size = (3, 4, 5)) # NOTE : 3차원 배열"
   ]
  },
  {
   "cell_type": "code",
   "execution_count": 5,
   "metadata": {},
   "outputs": [
    {
     "name": "stdout",
     "output_type": "stream",
     "text": [
      "x3 ndim :  3\nx3 shape :  (3, 4, 5)\nx3 size :  60\nx3 dtype :  int32\n"
     ]
    }
   ],
   "source": [
    "# NOTE : 각 배열은 ndim(차원의 개수), shape(각 차원의 크기), size(전체배열 크기)를 가지고 있다.\n",
    "\n",
    "print(\"x3 ndim : \", x3.ndim)\n",
    "print(\"x3 shape : \", x3.shape)\n",
    "print(\"x3 size : \", x3.size)\n",
    "print(\"x3 dtype : \", x3.dtype)"
   ]
  },
  {
   "cell_type": "code",
   "execution_count": 7,
   "metadata": {},
   "outputs": [
    {
     "name": "stdout",
     "output_type": "stream",
     "text": [
      "x3 itemsize :  4  bytes\nx3 nbytes :  240  bytes\n"
     ]
    }
   ],
   "source": [
    "# NOTE : (itemsize) 각 배열 요소의 크기를 바이트 단위로 보여줌.\n",
    "#        (nbytes) 배열의 전체 크기를 바이트 단위로 보여줌.\n",
    "#        (nbytes = itemsize * size)\n",
    "print(\"x3 itemsize : \", x3.itemsize, \" bytes\")\n",
    "print(\"x3 nbytes : \", x3.nbytes, \" bytes\")"
   ]
  },
  {
   "cell_type": "code",
   "execution_count": 15,
   "metadata": {},
   "outputs": [
    {
     "data": {
      "text/plain": [
       "array([5, 0, 3, 3, 7, 9])"
      ]
     },
     "execution_count": 15,
     "metadata": {},
     "output_type": "execute_result"
    }
   ],
   "source": [
    "x1"
   ]
  },
  {
   "cell_type": "code",
   "execution_count": 10,
   "metadata": {},
   "outputs": [
    {
     "name": "stdout",
     "output_type": "stream",
     "text": [
      "5\n0\n3\n3\n7\n9\n"
     ]
    }
   ],
   "source": [
    "for rep in x1:\n",
    "    print(rep)"
   ]
  },
  {
   "cell_type": "code",
   "execution_count": 11,
   "metadata": {},
   "outputs": [
    {
     "data": {
      "text/plain": [
       "array([[3, 5, 2, 4],\n       [7, 6, 8, 8],\n       [1, 6, 7, 7]])"
      ]
     },
     "execution_count": 11,
     "metadata": {},
     "output_type": "execute_result"
    }
   ],
   "source": [
    "x2"
   ]
  },
  {
   "cell_type": "code",
   "execution_count": 14,
   "metadata": {},
   "outputs": [
    {
     "name": "stdout",
     "output_type": "stream",
     "text": [
      "3\n5\n2\n4\n7\n6\n8\n8\n1\n6\n7\n7\n"
     ]
    }
   ],
   "source": [
    "for o_rep in x2:\n",
    "    for i_rep in o_rep:\n",
    "        print(i_rep)"
   ]
  },
  {
   "cell_type": "code",
   "execution_count": 18,
   "metadata": {},
   "outputs": [
    {
     "data": {
      "text/plain": [
       "array([[12,  5,  2,  4],\n       [ 7,  6,  8,  8],\n       [ 1,  6,  7,  7]])"
      ]
     },
     "execution_count": 18,
     "metadata": {},
     "output_type": "execute_result"
    }
   ],
   "source": [
    "x2[0, 0] = 12\n",
    "x2"
   ]
  }
 ],
 "metadata": {
  "kernelspec": {
   "display_name": "Python 2",
   "language": "python",
   "name": "python2"
  },
  "language_info": {
   "codemirror_mode": {
    "name": "ipython",
    "version": 2
   },
   "file_extension": ".py",
   "mimetype": "text/x-python",
   "name": "python",
   "nbconvert_exporter": "python",
   "pygments_lexer": "ipython2",
   "version": "2.7.6"
  }
 },
 "nbformat": 4,
 "nbformat_minor": 0
}
