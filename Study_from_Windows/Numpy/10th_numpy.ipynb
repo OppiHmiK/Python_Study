{
 "cells": [
  {
   "cell_type": "code",
   "execution_count": 7,
   "metadata": {
    "collapsed": true
   },
   "outputs": [],
   "source": [
    "# -*- coding : utf-8 -*-\n",
    "import numpy as np"
   ]
  },
  {
   "cell_type": "code",
   "execution_count": 15,
   "metadata": {},
   "outputs": [
    {
     "data": {
      "text/plain": [
       "array([51, 92, 14, 71, 60, 20, 82, 86, 74, 74])"
      ]
     },
     "execution_count": 15,
     "metadata": {},
     "output_type": "execute_result"
    }
   ],
   "source": [
    "# NOTE: 팬시 인덱싱\n",
    "# 팬시 인덱싱 : 단일 스칼라 대신 인덱스 배열을 반환\n",
    "#             이로써 복잡한 배열 값의 하위 집합에 매우 빠르게 접근하여 수정가능\n",
    "rand = np.random.RandomState(42)\n",
    "x = rand.randint(100, size = 10)\n",
    "x"
   ]
  },
  {
   "cell_type": "code",
   "execution_count": 11,
   "metadata": {},
   "outputs": [
    {
     "name": "stdout",
     "output_type": "stream",
     "text": [
      "[71, 86, 14]\n[71 86 60]\n"
     ]
    }
   ],
   "source": [
    "# NOTE : 세 개의 다른 요소에 접근하고자 할 때\n",
    "print([x[3], x[7], x[2]])\n",
    "\n",
    "# NOTE : 인덱스의 단일 리스트나 배열을 전달\n",
    "ind = [3, 7, 4]\n",
    "print(x[ind])"
   ]
  },
  {
   "cell_type": "code",
   "execution_count": 13,
   "metadata": {},
   "outputs": [
    {
     "name": "stdout",
     "output_type": "stream",
     "text": [
      "[[71 86]\n [60 20]]\n"
     ]
    }
   ],
   "source": [
    "# NOTE : 결과의 형상이 대상 배열의 형상이 아니라 인덱스 배열의 형상을 반영\n",
    "ind = np.array([[3, 7],\n",
    "                [4, 5]])\n",
    "print(x[ind])"
   ]
  },
  {
   "cell_type": "code",
   "execution_count": 14,
   "metadata": {},
   "outputs": [
    {
     "data": {
      "text/plain": [
       "array([[ 0,  1,  2,  3],\n       [ 4,  5,  6,  7],\n       [ 8,  9, 10, 11]])"
      ]
     },
     "execution_count": 14,
     "metadata": {},
     "output_type": "execute_result"
    }
   ],
   "source": [
    "y = np.arange(12).reshape((3, 4))\n",
    "y"
   ]
  },
  {
   "cell_type": "code",
   "execution_count": 23,
   "metadata": {},
   "outputs": [
    {
     "name": "stdout",
     "output_type": "stream",
     "text": [
      "[ 2  5 11] \n\n[[ 2  1  3]\n [ 6  5  7]\n [10  9 11]] \n\n[[0 0 0]\n [2 1 3]\n [4 2 6]]\n"
     ]
    }
   ],
   "source": [
    "row = np.array([0, 1, 2])\n",
    "col = np.array([2, 1, 3])\n",
    "print(y[row, col], '\\n')\n",
    "# output : [2  5 11]\n",
    "# NOTE : 결과의 첫 번째 값은 y[0, 2], 두 번째 값은 y[1,1], 세 번째 값은 y[2, 3]\n",
    "\n",
    "print(y[row[:,np.newaxis], col], '\\n')\n",
    "print(row[:, np.newaxis] * col)\n",
    "\n",
    "# NOTE : 팬시 인덱싱을 사용하면 인덱싱 대상 배열의 형상이 아니라 \n",
    "#        브로드캐스팅 된 인덱스의 형상을 반영"
   ]
  },
  {
   "cell_type": "code",
   "execution_count": null,
   "metadata": {},
   "outputs": [],
   "source": []
  }
 ],
 "metadata": {
  "kernelspec": {
   "display_name": "Python 2",
   "language": "python",
   "name": "python2"
  },
  "language_info": {
   "codemirror_mode": {
    "name": "ipython",
    "version": 2
   },
   "file_extension": ".py",
   "mimetype": "text/x-python",
   "name": "python",
   "nbconvert_exporter": "python",
   "pygments_lexer": "ipython2",
   "version": "2.7.6"
  }
 },
 "nbformat": 4,
 "nbformat_minor": 0
}
