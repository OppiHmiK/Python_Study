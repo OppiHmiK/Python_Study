{
 "cells": [
  {
   "cell_type": "code",
   "execution_count": 31,
   "metadata": {
    "collapsed": true
   },
   "outputs": [],
   "source": [
    "# -*- coding : utf-8 -*-\n",
    "%matplotlib inline\n",
    "\n",
    "import matplotlib.pyplot as plt\n",
    "import seaborn as sns\n",
    "import pandas as pd\n",
    "import numpy as np\n",
    "import os\n",
    "\n",
    "sns.set()"
   ]
  },
  {
   "cell_type": "code",
   "execution_count": 34,
   "metadata": {},
   "outputs": [
    {
     "name": "stdout",
     "output_type": "stream",
     "text": [
      "D:\\Programming\\Python\\Python-Practice\\Python Practice from Windows\\numpy\\data\n"
     ]
    }
   ],
   "source": [
    "# os.chdir('./Python-Practice/Python Practice from Windows/numpy/data')\n",
    "print(os.getcwd())\n",
    "\n",
    "data = pd.read_csv('Seattle2014.csv', engine='python')"
   ]
  },
  {
   "cell_type": "code",
   "execution_count": 41,
   "metadata": {},
   "outputs": [],
   "source": [
    "rainfall = data['PRCP'].values\n",
    "\n",
    "# NOTE : 1 inch = 25.4mm => 10/254 inch = 1mm => 1/254 inch = 1/10 mm\n",
    "inches = rainfall / 254 "
   ]
  },
  {
   "cell_type": "code",
   "execution_count": 49,
   "metadata": {},
   "outputs": [
    {
     "data": {
      "text/plain": [
       "array([[4, 6, 1, 5],\n       [6, 9, 2, 6],\n       [2, 1, 6, 3]])"
      ]
     },
     "execution_count": 49,
     "metadata": {},
     "output_type": "execute_result"
    }
   ],
   "source": [
    "rng = np.random.RandomState(0)\n",
    "x = np.random.randint(10, size = (3, 4))\n",
    "x"
   ]
  },
  {
   "cell_type": "code",
   "execution_count": 17,
   "metadata": {},
   "outputs": [],
   "source": [
    "# NOTE : 비교연산자와 대응 ufunc\n",
    "# == : np.equal\n",
    "# != : np.not_equal\n",
    "# < : np.less\n",
    "# <= : np.less_equal\n",
    "# > : np.greater\n",
    "# >= : np.greater_equal"
   ]
  },
  {
   "cell_type": "code",
   "execution_count": 51,
   "metadata": {},
   "outputs": [
    {
     "name": "stdout",
     "output_type": "stream",
     "text": [
      "[[False False  True False]\n [False False False False]\n [False  True False False]]\n[[ True  True False  True]\n [ True  True  True  True]\n [ True False  True  True]]\n[[ True False  True False]\n [False False  True False]\n [ True  True False  True]]\n[[ True False  True  True]\n [False False  True False]\n [ True  True False  True]]\n[[False  True False False]\n [ True  True False  True]\n [False False  True False]]\n[[False  True False  True]\n [ True  True False  True]\n [False False  True False]]\n"
     ]
    }
   ],
   "source": [
    "print(np.equal(x, 1))\n",
    "print(np.not_equal(x, 1))\n",
    "\n",
    "print(np.less(x, 5))\n",
    "print(np.less_equal(x, 5))\n",
    "print(np.greater(x, 5))\n",
    "print(np.greater_equal(x, 5))"
   ]
  },
  {
   "cell_type": "code",
   "execution_count": 52,
   "metadata": {},
   "outputs": [
    {
     "name": "stdout",
     "output_type": "stream",
     "text": [
      "7\n7\n[3 1 3]\n[2 1 2 2]\n"
     ]
    }
   ],
   "source": [
    "print(np.count_nonzero(np.less(x, 6)))\n",
    "print(np.sum(np.less(x, 6)))\n",
    "print(np.sum(np.less(x, 6), axis = 1)) # NOTE : 각 행에 6보다 작은 값의 갯수\n",
    "print(np.sum(np.less(x ,6), axis = 0)) # NOTE : 각 열에 6보다 작은 값의 갯수"
   ]
  },
  {
   "cell_type": "code",
   "execution_count": 53,
   "metadata": {},
   "outputs": [
    {
     "name": "stdout",
     "output_type": "stream",
     "text": [
      "True\nTrue\n[ True False  True]\n"
     ]
    }
   ],
   "source": [
    "print(np.any(np.greater(x, 8))) # NOTE : 8보다 큰 수가 있는가?\n",
    "print(np.all(np.less(x, 10))) # NOTE : 모든 값이 10보다 작은가?\n",
    "print(np.all(np.less(x, 8), axis = 1)) # NOTE : 각 행의 모든 값이 8보다 작은가?"
   ]
  },
  {
   "cell_type": "code",
   "execution_count": 18,
   "metadata": {},
   "outputs": [],
   "source": [
    "# NOTE : bool 연산자와 대응 ufunc\n",
    "# & : np.bitwise_and\n",
    "# | : np.bitwise_or\n",
    "# ^ : np.bitwise_xor\n",
    "# ~ : np.bitwise_not"
   ]
  },
  {
   "cell_type": "code",
   "execution_count": 48,
   "metadata": {},
   "outputs": [
    {
     "name": "stdout",
     "output_type": "stream",
     "text": [
      "29\n29\n"
     ]
    }
   ],
   "source": [
    "# NOTE : 강수량이 0.5인치에서 1인치 사이인 날\n",
    "print(np.sum((inches > 0.5) & (inches < 1)))\n",
    "print(np.sum(~((inches <= 0.5) | (1 <= inches))))"
   ]
  },
  {
   "cell_type": "code",
   "execution_count": 56,
   "metadata": {},
   "outputs": [
    {
     "data": {
      "text/plain": [
       "array([4, 1, 2, 2, 1, 3])"
      ]
     },
     "execution_count": 56,
     "metadata": {},
     "output_type": "execute_result"
    }
   ],
   "source": [
    "# NOTE : 마스킹 연산\n",
    "# 마스킹 연산 : 배열에서 조건에 맞는 값들을 선택\n",
    "\n",
    "x[x < 5]\n",
    "# output : array([4, 1, 2, 2, 1, 3])\n",
    "# NOTE : 마스크 배열이 True인 위치에 있는 모든 값으로 채워짐."
   ]
  }
 ],
 "metadata": {
  "kernelspec": {
   "display_name": "Python 2",
   "language": "python",
   "name": "python2"
  },
  "language_info": {
   "codemirror_mode": {
    "name": "ipython",
    "version": 2
   },
   "file_extension": ".py",
   "mimetype": "text/x-python",
   "name": "python",
   "nbconvert_exporter": "python",
   "pygments_lexer": "ipython2",
   "version": "2.7.6"
  }
 },
 "nbformat": 4,
 "nbformat_minor": 0
}
