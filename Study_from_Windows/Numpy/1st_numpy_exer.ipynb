{
 "cells": [
  {
   "cell_type": "code",
   "execution_count": 2,
   "metadata": {
    "collapsed": true
   },
   "outputs": [
    {
     "name": "stdout",
     "output_type": "stream",
     "text": [
      "D:\\Programming\\Python\\Python-Practice\\Python Practice from Windows\\numpy\\data\n"
     ]
    }
   ],
   "source": [
    "# -*- coding : utf-8 -*-\n",
    "%matplotlib inline\n",
    "\n",
    "import matplotlib.pyplot as plt\n",
    "import seaborn as sns\n",
    "import pandas as pd\n",
    "import numpy as np\n",
    "import os\n",
    "\n",
    "# os.chdir('./Python-Practice/Python Practice from Windows/numpy/data')\n",
    "print(os.getcwd())\n",
    "sns.set()"
   ]
  },
  {
   "cell_type": "code",
   "execution_count": 4,
   "metadata": {},
   "outputs": [],
   "source": [
    "data = pd.read_csv('Seattle2014.csv', engine='python')\n",
    "rainfall = data['PRCP'].values\n",
    "inches = rainfall / 254"
   ]
  },
  {
   "cell_type": "code",
   "execution_count": 10,
   "metadata": {},
   "outputs": [],
   "source": [
    "rainy = (inches > 0) # NOTE : 비가 온 모든 날에 대한 마스크 생성\n",
    "\n",
    "# NOTE : 여름에 해당하는 날에 대한 마스크 생성(6월 21일은 172번째 날)\n",
    "summer = (np.arange(365) - 172 < 90) & (np.arange(365) - 172 > 0"
   ]
  },
  {
   "cell_type": "code",
   "execution_count": 14,
   "metadata": {},
   "outputs": [
    {
     "name": "stdout",
     "output_type": "stream",
     "text": [
      "Median precip on rainy days in 2014 (inches) :  0.19488188976377951\nMedian precip on summer days in 2014 (inches) :  0.0\nMaximum precip on summer days in 2014 (inches) :  0.8503937007874016\nMedian precip on non-summer days in 2014 (inches) :  0.20078740157480315\n"
     ]
    }
   ],
   "source": [
    "print(\"Median precip on rainy days in 2014 (inches) : \", np.median(inches[rainy]))\n",
    "print(\"Median precip on summer days in 2014 (inches) : \", np.median(summer[rainy]))\n",
    "print(\"Maximum precip on summer days in 2014 (inches) : \", np.max(inches[summer]))\n",
    "print(\"Median precip on non-summer days in 2014 (inches) : \", np.median(inches[rainy & ~summer]))\n"
   ]
  }
 ],
 "metadata": {
  "kernelspec": {
   "display_name": "Python 2",
   "language": "python",
   "name": "python2"
  },
  "language_info": {
   "codemirror_mode": {
    "name": "ipython",
    "version": 2
   },
   "file_extension": ".py",
   "mimetype": "text/x-python",
   "name": "python",
   "nbconvert_exporter": "python",
   "pygments_lexer": "ipython2",
   "version": "2.7.6"
  }
 },
 "nbformat": 4,
 "nbformat_minor": 0
}
