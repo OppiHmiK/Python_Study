{
 "cells": [
  {
   "cell_type": "code",
   "execution_count": 1,
   "metadata": {
    "collapsed": true
   },
   "outputs": [],
   "source": [
    "# -*- coding : utf-8 -*-\n",
    "import numpy as np"
   ]
  },
  {
   "cell_type": "code",
   "execution_count": 7,
   "metadata": {},
   "outputs": [
    {
     "name": "stdout",
     "output_type": "stream",
     "text": [
      "[1 2 3 4 5]\n"
     ]
    }
   ],
   "source": [
    "# NOTE : NumPy 정렬\n",
    "# np.sort는 기본적으로 퀵 정렬 알고리즘을 사용\n",
    "\n",
    "x = np.array([2, 1, 4, 3, 5])\n",
    "print(np.sort(x))"
   ]
  },
  {
   "cell_type": "code",
   "execution_count": 9,
   "metadata": {},
   "outputs": [
    {
     "data": {
      "text/plain": [
       "array([1, 0, 3, 2, 4], dtype=int64)"
      ]
     },
     "execution_count": 9,
     "metadata": {},
     "output_type": "execute_result"
    }
   ],
   "source": [
    "# NOTE : 정렬된 요소의 인덱스를 반환\n",
    "ind = np.argsort(x)\n",
    "ind"
   ]
  },
  {
   "cell_type": "code",
   "execution_count": 15,
   "metadata": {},
   "outputs": [
    {
     "name": "stdout",
     "output_type": "stream",
     "text": [
      "[[6 3 7 4 6 9]\n [2 6 7 4 3 7]\n [7 2 5 4 1 7]\n [5 1 4 0 9 5]]\n"
     ]
    }
   ],
   "source": [
    "# NOTE : 행이나 열 기준으로 정렬\n",
    "rand = np.random.RandomState(42)\n",
    "y  = rand.randint(0, 10, (4, 6))\n",
    "print(y)"
   ]
  },
  {
   "cell_type": "code",
   "execution_count": 18,
   "metadata": {},
   "outputs": [
    {
     "name": "stdout",
     "output_type": "stream",
     "text": [
      "[[2 1 4 0 1 5]\n [5 2 5 4 3 7]\n [6 3 7 4 6 7]\n [7 6 7 4 9 9]] \n\n[[3 4 6 6 7 9]\n [2 3 4 6 7 7]\n [1 2 4 5 7 7]\n [0 1 4 5 5 9]]\n"
     ]
    }
   ],
   "source": [
    "# NOTE : 각 열을 정렬\n",
    "print(np.sort(y, axis = 0), '\\n')\n",
    "\n",
    "# NOTE : 각 행을 정렬\n",
    "print(np.sort(y, axis = 1))"
   ]
  },
  {
   "cell_type": "code",
   "execution_count": 23,
   "metadata": {},
   "outputs": [
    {
     "data": {
      "text/plain": [
       "array([2, 1, 3, 4, 6, 5, 7])"
      ]
     },
     "execution_count": 23,
     "metadata": {},
     "output_type": "execute_result"
    }
   ],
   "source": [
    "# NOTE\n",
    "# 부분정렬 : 파티션 나누기\n",
    "\n",
    "# NOTE\n",
    "# partition : 배열과 숫자 K를 취해 새로운 배열 반환\n",
    "#             반환된 파티션의 왼쪽에는 K개의 가장 작은 값, 나머지 오른쪽에는 나머지 값을 임의의 순서로 채워짐.\n",
    "\n",
    "x = np.array([7, 2, 3, 1, 6, 5, 4])\n",
    "np.partition(x, 3)"
   ]
  },
  {
   "cell_type": "code",
   "execution_count": null,
   "metadata": {},
   "outputs": [],
   "source": []
  }
 ],
 "metadata": {
  "kernelspec": {
   "display_name": "Python 2",
   "language": "python",
   "name": "python2"
  },
  "language_info": {
   "codemirror_mode": {
    "name": "ipython",
    "version": 2
   },
   "file_extension": ".py",
   "mimetype": "text/x-python",
   "name": "python",
   "nbconvert_exporter": "python",
   "pygments_lexer": "ipython2",
   "version": "2.7.6"
  }
 },
 "nbformat": 4,
 "nbformat_minor": 0
}
