{
 "cells": [
  {
   "cell_type": "code",
   "execution_count": null,
   "metadata": {},
   "outputs": [],
   "source": [
    "def time_test():\n",
    "    test = list(map(int, input('test : ').split(',')))\n",
    "    return sum(test)\n",
    "\n",
    "time_test()"
   ]
  },
  {
   "cell_type": "code",
   "execution_count": 2,
   "metadata": {},
   "outputs": [],
   "source": [
    "def time_test_2(in_list):\n",
    "    return sum(in_list)"
   ]
  },
  {
   "cell_type": "code",
   "execution_count": 3,
   "metadata": {},
   "outputs": [
    {
     "name": "stdout",
     "output_type": "stream",
     "text": [
      "135 ns ± 0.415 ns per loop (mean ± std. dev. of 7 runs, 10000000 loops each)\n",
      "291 ns ± 3.88 ns per loop (mean ± std. dev. of 7 runs, 1000000 loops each)\n",
      "188 ns ± 0.452 ns per loop (mean ± std. dev. of 7 runs, 10000000 loops each)\n"
     ]
    }
   ],
   "source": [
    "number = 100000\n",
    "%timeit f'{number}'\n",
    "%timeit '{}'.format(number)\n",
    "%timeit '%d'%number\n",
    "\n"
   ]
  }
 ],
 "metadata": {
  "kernelspec": {
   "display_name": "Python 3",
   "language": "python",
   "name": "python3"
  },
  "language_info": {
   "codemirror_mode": {
    "name": "ipython",
    "version": 3
   },
   "file_extension": ".py",
   "mimetype": "text/x-python",
   "name": "python",
   "nbconvert_exporter": "python",
   "pygments_lexer": "ipython3",
   "version": "3.7.3"
  }
 },
 "nbformat": 4,
 "nbformat_minor": 2
}
