{
 "cells": [
  {
   "cell_type": "code",
   "execution_count": 6,
   "metadata": {},
   "outputs": [
    {
     "name": "stdout",
     "output_type": "stream",
     "text": [
      "121 ns ± 0.0741 ns per loop (mean ± std. dev. of 7 runs, 10000000 loops each)\n",
      "340 ns ± 1.12 ns per loop (mean ± std. dev. of 7 runs, 1000000 loops each)\n",
      "237 ns ± 1.43 ns per loop (mean ± std. dev. of 7 runs, 1000000 loops each)\n",
      "63.4 ns ± 0.977 ns per loop (mean ± std. dev. of 7 runs, 10000000 loops each)\n"
     ]
    }
   ],
   "source": [
    "last_name = 'Bond'\n",
    "first_name = 'James'\n",
    "\n",
    "%timeit f'{first_name} {last_name}'\n",
    "%timeit '{} {}'.format(first_name, last_name)\n",
    "%timeit '%s %s'%(first_name, last_name)\n",
    "%timeit first_name, last_name"
   ]
  }
 ],
 "metadata": {
  "kernelspec": {
   "display_name": "Python 3",
   "language": "python",
   "name": "python3"
  },
  "language_info": {
   "codemirror_mode": {
    "name": "ipython",
    "version": 3
   },
   "file_extension": ".py",
   "mimetype": "text/x-python",
   "name": "python",
   "nbconvert_exporter": "python",
   "pygments_lexer": "ipython3",
   "version": "3.7.3"
  }
 },
 "nbformat": 4,
 "nbformat_minor": 2
}
